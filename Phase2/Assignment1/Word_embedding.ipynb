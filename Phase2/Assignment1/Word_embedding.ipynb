{
  "nbformat": 4,
  "nbformat_minor": 0,
  "metadata": {
    "colab": {
      "name": "Word_embedding.ipynb",
      "provenance": [],
      "collapsed_sections": [],
      "include_colab_link": true
    },
    "kernelspec": {
      "name": "python3",
      "display_name": "Python 3"
    },
    "accelerator": "GPU"
  },
  "cells": [
    {
      "cell_type": "markdown",
      "metadata": {
        "id": "view-in-github",
        "colab_type": "text"
      },
      "source": [
        "<a href=\"https://colab.research.google.com/github/sudhakarmlal/EVA/blob/master/Phase2/Assignment1/Word_embedding.ipynb\" target=\"_parent\"><img src=\"https://colab.research.google.com/assets/colab-badge.svg\" alt=\"Open In Colab\"/></a>"
      ]
    },
    {
      "cell_type": "markdown",
      "metadata": {
        "id": "eEaiPXGyrJA8",
        "colab_type": "text"
      },
      "source": [
        "# Word-embeddings\n",
        "Name : K Sudhakar Reddy\n",
        "\n",
        "Background :\n",
        "This Assignment we will be using the most popular method Word Embedding to find out how it works \n",
        "\n",
        "Deep Learning for NLP is pattern recognition applied to words, sentences, and paragraphs, in much the same way that computer vision is pattern recognition to pixels.Like all other neural networks, deep-learning models don't take as input raw text: they only work with numeric tensors. Vectorizing text is the process of transforming text into numeric tensors. \n",
        "\n",
        "Requirements :\n",
        "We will use the IMDB database and Glove model to create the word embedding\n",
        "\n",
        "Environment:\n",
        "Development - Colab GPU , Jupyter Notebook Repository : Github\n",
        "\n"
      ]
    },
    {
      "cell_type": "markdown",
      "metadata": {
        "id": "LGyoFkhgyO2G",
        "colab_type": "text"
      },
      "source": [
        "# Import all Libraries"
      ]
    },
    {
      "cell_type": "code",
      "metadata": {
        "id": "VxJ5t5iBrLZ-",
        "colab_type": "code",
        "colab": {}
      },
      "source": [
        "import numpy as np\n",
        "import os\n",
        "from keras.preprocessing.text import Tokenizer\n",
        "from keras.preprocessing.sequence import pad_sequences\n"
      ],
      "execution_count": 0,
      "outputs": []
    },
    {
      "cell_type": "markdown",
      "metadata": {
        "id": "q2yD1hQuyYrj",
        "colab_type": "text"
      },
      "source": [
        "# Request to get the IMDB data"
      ]
    },
    {
      "cell_type": "code",
      "metadata": {
        "id": "KeeFYYwNLOgo",
        "colab_type": "code",
        "outputId": "66450971-47d5-47a5-d350-5f515b906434",
        "colab": {
          "base_uri": "https://localhost:8080/",
          "height": 411
        }
      },
      "source": [
        "!wget --no-check-certificate http://mng.bz/0tIo\n",
        "\n"
      ],
      "execution_count": 0,
      "outputs": [
        {
          "output_type": "stream",
          "text": [
            "--2020-01-23 14:24:06--  http://mng.bz/0tIo\n",
            "Resolving mng.bz (mng.bz)... 35.166.24.88\n",
            "Connecting to mng.bz (mng.bz)|35.166.24.88|:80... connected.\n",
            "HTTP request sent, awaiting response... 301 Moved Permanently\n",
            "Location: https://mng.bz/0tIo [following]\n",
            "--2020-01-23 14:24:11--  https://mng.bz/0tIo\n",
            "Connecting to mng.bz (mng.bz)|35.166.24.88|:443... connected.\n",
            "WARNING: cannot verify mng.bz's certificate, issued by ‘CN=Go Daddy Secure Certificate Authority - G2,OU=http://certs.godaddy.com/repository/,O=GoDaddy.com\\\\, Inc.,L=Scottsdale,ST=Arizona,C=US’:\n",
            "  Unable to locally verify the issuer's authority.\n",
            "HTTP request sent, awaiting response... 301 \n",
            "Location: http://s3.amazonaws.com/text-datasets/aclImdb.zip [following]\n",
            "--2020-01-23 14:24:11--  http://s3.amazonaws.com/text-datasets/aclImdb.zip\n",
            "Resolving s3.amazonaws.com (s3.amazonaws.com)... 52.216.230.13\n",
            "Connecting to s3.amazonaws.com (s3.amazonaws.com)|52.216.230.13|:80... connected.\n",
            "HTTP request sent, awaiting response... 200 OK\n",
            "Length: 60711700 (58M) [application/zip]\n",
            "Saving to: ‘0tIo’\n",
            "\n",
            "0tIo                100%[===================>]  57.90M  34.2MB/s    in 1.7s    \n",
            "\n",
            "2020-01-23 14:24:13 (34.2 MB/s) - ‘0tIo’ saved [60711700/60711700]\n",
            "\n"
          ],
          "name": "stdout"
        }
      ]
    },
    {
      "cell_type": "code",
      "metadata": {
        "id": "thGWbdrNLT8b",
        "colab_type": "code",
        "colab": {}
      },
      "source": [
        "!unzip -q 0tIo"
      ],
      "execution_count": 0,
      "outputs": []
    },
    {
      "cell_type": "markdown",
      "metadata": {
        "id": "K701fgeWzB5R",
        "colab_type": "text"
      },
      "source": [
        "# Read the IMDB Data and append labels "
      ]
    },
    {
      "cell_type": "code",
      "metadata": {
        "id": "GQQRfVtxLnS2",
        "colab_type": "code",
        "colab": {}
      },
      "source": [
        "imdb_dir = '/content/aclImdb'\n",
        "train_dir = os.path.join(imdb_dir, 'train')\n",
        "\n",
        "labels = []\n",
        "texts = []\n",
        "\n",
        "for label_type in ['neg', 'pos']:\n",
        "  dir_name = os.path.join(train_dir, label_type)\n",
        "  for fname in os.listdir(dir_name):\n",
        "    #print(fname)\n",
        "    if fname[-4:] == '.txt':\n",
        "      #print('opening file', fname)\n",
        "      f = open(os.path.join(dir_name, fname))\n",
        "      texts.append(f.read())\n",
        "      f.close()\n",
        "      if label_type == 'neg':\n",
        "        labels.append(0)\n",
        "      else:\n",
        "        labels.append(1)"
      ],
      "execution_count": 0,
      "outputs": []
    },
    {
      "cell_type": "markdown",
      "metadata": {
        "id": "n3OwaU8tzMDS",
        "colab_type": "text"
      },
      "source": [
        "# Print the Length of the texts"
      ]
    },
    {
      "cell_type": "code",
      "metadata": {
        "id": "7orZNf4r5cz6",
        "colab_type": "code",
        "outputId": "a9fdcdc2-8937-4ffd-e0f0-8565417e1387",
        "colab": {
          "base_uri": "https://localhost:8080/",
          "height": 34
        }
      },
      "source": [
        "print(len(texts))"
      ],
      "execution_count": 0,
      "outputs": [
        {
          "output_type": "stream",
          "text": [
            "25000\n"
          ],
          "name": "stdout"
        }
      ]
    },
    {
      "cell_type": "code",
      "metadata": {
        "id": "MMrtToDz5fzU",
        "colab_type": "code",
        "outputId": "657e50b9-c556-46e7-cbe0-eacabce37c43",
        "colab": {
          "base_uri": "https://localhost:8080/",
          "height": 68
        }
      },
      "source": [
        "\n",
        "maxlen = 100                  # Define the maximum length of each record \n",
        "training_samples = 8000       # Define the number of samples to be taken for training\n",
        "validation_samples = 10000    # Define number of validation samples. In this we will see that even less number of training samples than validation data also perform not very bad \n",
        "max_words = 10000             # Creates a tokenizer, configured to only take into account the 10,000 most common words\n",
        "\n",
        "\n",
        "# Create Tokenizer , Fit it to the Texts and create a sequence of texts from the tokenizer \n",
        "tokenizer = Tokenizer(num_words=max_words)\n",
        "tokenizer.fit_on_texts(texts)\n",
        "sequences = tokenizer.texts_to_sequences(texts)\n",
        "# Create a dictionary of the word and respective numeric index value \n",
        "word_index = tokenizer.word_index\n",
        "print('Found %s unique tokens.' % len(word_index))\n",
        "# Define the sequence with the numeric indexes \n",
        "data = pad_sequences(sequences, maxlen=maxlen)\n",
        "# variable for labels\n",
        "labels = np.asarray(labels)\n",
        "print('Shape of data tensor:', data.shape)\n",
        "print('Shape of label tensor:', labels.shape)\n",
        "\n",
        "# Shuffle the indices as the data are normally in group for each label \n",
        "indices = np.arange(data.shape[0])\n",
        "np.random.shuffle(indices)\n",
        "data = data[indices]\n",
        "labels = labels[indices]\n",
        "# Segreegate data for training and validation \n",
        "x_train = data[:training_samples]\n",
        "y_train = labels[:training_samples]\n",
        "\n",
        "x_val = data[training_samples: training_samples + validation_samples]\n",
        "y_val = labels[training_samples: training_samples + validation_samples]"
      ],
      "execution_count": 0,
      "outputs": [
        {
          "output_type": "stream",
          "text": [
            "Found 88582 unique tokens.\n",
            "Shape of data tensor: (25000, 100)\n",
            "Shape of label tensor: (25000,)\n"
          ],
          "name": "stdout"
        }
      ]
    },
    {
      "cell_type": "markdown",
      "metadata": {
        "id": "ApuUJ73R621f",
        "colab_type": "text"
      },
      "source": [
        "# Open Question : \n",
        "What are those 10,000 words that the model will select out of entire corpus ? is it the first 10k or at random ?\n",
        "\n",
        "Answer : We believe only the Top 10k words will be selected \n"
      ]
    },
    {
      "cell_type": "markdown",
      "metadata": {
        "id": "nLxlohYc3lA2",
        "colab_type": "text"
      },
      "source": [
        "# Download the Glove model . \n",
        "Here we are downloading the Glove6B model as our environment may not support heavier models than this due to memory constraints "
      ]
    },
    {
      "cell_type": "code",
      "metadata": {
        "id": "zBdzSAxl5xNV",
        "colab_type": "code",
        "outputId": "4d71b6c7-341a-4833-cf61-1c17ec819c18",
        "colab": {
          "base_uri": "https://localhost:8080/",
          "height": 357
        }
      },
      "source": [
        "\n",
        "!wget http://nlp.stanford.edu/data/glove.6B.zip"
      ],
      "execution_count": 0,
      "outputs": [
        {
          "output_type": "stream",
          "text": [
            "--2020-01-23 14:47:27--  http://nlp.stanford.edu/data/glove.6B.zip\n",
            "Resolving nlp.stanford.edu (nlp.stanford.edu)... 171.64.67.140\n",
            "Connecting to nlp.stanford.edu (nlp.stanford.edu)|171.64.67.140|:80... connected.\n",
            "HTTP request sent, awaiting response... 302 Found\n",
            "Location: https://nlp.stanford.edu/data/glove.6B.zip [following]\n",
            "--2020-01-23 14:47:27--  https://nlp.stanford.edu/data/glove.6B.zip\n",
            "Connecting to nlp.stanford.edu (nlp.stanford.edu)|171.64.67.140|:443... connected.\n",
            "HTTP request sent, awaiting response... 301 Moved Permanently\n",
            "Location: http://downloads.cs.stanford.edu/nlp/data/glove.6B.zip [following]\n",
            "--2020-01-23 14:47:27--  http://downloads.cs.stanford.edu/nlp/data/glove.6B.zip\n",
            "Resolving downloads.cs.stanford.edu (downloads.cs.stanford.edu)... 171.64.64.22\n",
            "Connecting to downloads.cs.stanford.edu (downloads.cs.stanford.edu)|171.64.64.22|:80... connected.\n",
            "HTTP request sent, awaiting response... 200 OK\n",
            "Length: 862182613 (822M) [application/zip]\n",
            "Saving to: ‘glove.6B.zip’\n",
            "\n",
            "glove.6B.zip        100%[===================>] 822.24M  2.07MB/s    in 6m 27s  \n",
            "\n",
            "2020-01-23 14:53:54 (2.13 MB/s) - ‘glove.6B.zip’ saved [862182613/862182613]\n",
            "\n"
          ],
          "name": "stdout"
        }
      ]
    },
    {
      "cell_type": "code",
      "metadata": {
        "id": "xx35i3wG6Ch-",
        "colab_type": "code",
        "outputId": "34f37074-0442-40a7-eae8-f88abdce80df",
        "colab": {
          "base_uri": "https://localhost:8080/",
          "height": 102
        }
      },
      "source": [
        "!unzip glove*.zip"
      ],
      "execution_count": 0,
      "outputs": [
        {
          "output_type": "stream",
          "text": [
            "Archive:  glove.6B.zip\n",
            "  inflating: glove.6B.50d.txt        \n",
            "  inflating: glove.6B.100d.txt       \n",
            "  inflating: glove.6B.200d.txt       \n",
            "  inflating: glove.6B.300d.txt       \n"
          ],
          "name": "stdout"
        }
      ]
    },
    {
      "cell_type": "markdown",
      "metadata": {
        "id": "CbXwoeDA337T",
        "colab_type": "text"
      },
      "source": [
        "We will use the glove model for 100 dimension . We can use heavier models but due to memory constraints we are using this one "
      ]
    },
    {
      "cell_type": "markdown",
      "metadata": {
        "id": "tit5ZmAa7kBE",
        "colab_type": "text"
      },
      "source": [
        "# Read the embedding file and load the data"
      ]
    },
    {
      "cell_type": "code",
      "metadata": {
        "id": "qkq4BSOh8i_q",
        "colab_type": "code",
        "outputId": "4f9fc642-44b2-42da-cb3a-6827d0ea90d0",
        "colab": {
          "base_uri": "https://localhost:8080/",
          "height": 34
        }
      },
      "source": [
        "glove_dir = '/content'\n",
        "embeddings_index = {}\n",
        "\n",
        "embedding_dim = 100\n",
        "embedding_file_name = 'glove.6B.100d.txt'\n",
        "\n",
        "f = open(os.path.join(glove_dir, embedding_file_name ))\n",
        "for line in f:\n",
        "  values = line.split()\n",
        "  word = values[0]\n",
        "  coefs = np.asarray(values[1:], dtype='float32')\n",
        "  embeddings_index[word] = coefs\n",
        "f.close()\n",
        "\n",
        "print('Found %s word vectors.' %len(embeddings_index))"
      ],
      "execution_count": 0,
      "outputs": [
        {
          "output_type": "stream",
          "text": [
            "Found 400000 word vectors.\n"
          ],
          "name": "stdout"
        }
      ]
    },
    {
      "cell_type": "markdown",
      "metadata": {
        "id": "YNBxoMiS77DZ",
        "colab_type": "text"
      },
      "source": [
        "# Let's display some to see how it looks "
      ]
    },
    {
      "cell_type": "code",
      "metadata": {
        "id": "BFmGdRjb81P1",
        "colab_type": "code",
        "outputId": "91c740d8-6bae-4cba-cf71-d92984fa14ff",
        "colab": {
          "base_uri": "https://localhost:8080/",
          "height": 54
        }
      },
      "source": [
        "print(list(embeddings_index.keys())[0:100])\n"
      ],
      "execution_count": 0,
      "outputs": [
        {
          "output_type": "stream",
          "text": [
            "['the', ',', '.', 'of', 'to', 'and', 'in', 'a', '\"', \"'s\", 'for', '-', 'that', 'on', 'is', 'was', 'said', 'with', 'he', 'as', 'it', 'by', 'at', '(', ')', 'from', 'his', \"''\", '``', 'an', 'be', 'has', 'are', 'have', 'but', 'were', 'not', 'this', 'who', 'they', 'had', 'i', 'which', 'will', 'their', ':', 'or', 'its', 'one', 'after', 'new', 'been', 'also', 'we', 'would', 'two', 'more', \"'\", 'first', 'about', 'up', 'when', 'year', 'there', 'all', '--', 'out', 'she', 'other', 'people', \"n't\", 'her', 'percent', 'than', 'over', 'into', 'last', 'some', 'government', 'time', '$', 'you', 'years', 'if', 'no', 'world', 'can', 'three', 'do', ';', 'president', 'only', 'state', 'million', 'could', 'us', 'most', '_', 'against', 'u.s.']\n"
          ],
          "name": "stdout"
        }
      ]
    },
    {
      "cell_type": "markdown",
      "metadata": {
        "id": "-L_iL1EN7-4h",
        "colab_type": "text"
      },
      "source": [
        "# Steps\n",
        "1. Define a  blank Embedding_matrix\n",
        "2. Update Embedding matrix by reading sequentially using the Embedding Index "
      ]
    },
    {
      "cell_type": "code",
      "metadata": {
        "id": "9vc5kuDW8-9g",
        "colab_type": "code",
        "colab": {}
      },
      "source": [
        "embedding_matrix = np.zeros((max_words, embedding_dim))\n",
        "for word, i in word_index.items():\n",
        "    if i < max_words:\n",
        "        embedding_vector = embeddings_index.get(word)\n",
        "        if embedding_vector is not None:\n",
        "            embedding_matrix[i] = embedding_vector   # Words not found in the embedding index will be all zeros"
      ],
      "execution_count": 0,
      "outputs": []
    },
    {
      "cell_type": "markdown",
      "metadata": {
        "id": "G0XiaMRC85fB",
        "colab_type": "text"
      },
      "source": [
        "# Define a Sequential model \n",
        "The Model consisits of 2 fully connected layers . This is one of the simple layers used as the intention here is to understand how word embedding works and not to go deeep models to improve the accuracy of the model. We will look into model training and performance improvement later\n"
      ]
    },
    {
      "cell_type": "code",
      "metadata": {
        "id": "k6qg35_D9HLr",
        "colab_type": "code",
        "outputId": "72903c27-5f65-48e0-c8a5-4a58e10f7b3f",
        "colab": {
          "base_uri": "https://localhost:8080/",
          "height": 289
        }
      },
      "source": [
        "from keras.models import Sequential\n",
        "from keras.layers import Embedding, Flatten, Dense\n",
        "\n",
        "model = Sequential()\n",
        "model.add(Embedding(max_words, embedding_dim, input_length=maxlen))\n",
        "model.add(Flatten())\n",
        "model.add(Dense(32, activation='relu'))\n",
        "model.add(Dense(1, activation='sigmoid'))\n",
        "model.summary()"
      ],
      "execution_count": 0,
      "outputs": [
        {
          "output_type": "stream",
          "text": [
            "Model: \"sequential_2\"\n",
            "_________________________________________________________________\n",
            "Layer (type)                 Output Shape              Param #   \n",
            "=================================================================\n",
            "embedding_2 (Embedding)      (None, 100, 100)          1000000   \n",
            "_________________________________________________________________\n",
            "flatten_2 (Flatten)          (None, 10000)             0         \n",
            "_________________________________________________________________\n",
            "dense_3 (Dense)              (None, 32)                320032    \n",
            "_________________________________________________________________\n",
            "dense_4 (Dense)              (None, 1)                 33        \n",
            "=================================================================\n",
            "Total params: 1,320,065\n",
            "Trainable params: 1,320,065\n",
            "Non-trainable params: 0\n",
            "_________________________________________________________________\n"
          ],
          "name": "stdout"
        }
      ]
    },
    {
      "cell_type": "markdown",
      "metadata": {
        "id": "6QPbiuI59iuf",
        "colab_type": "text"
      },
      "source": [
        "1. Set the weights to the Embedding matrix \n",
        "2.  freeze the Embedding layer (set its trainable attribute to False) as we are using a pretrained model\n"
      ]
    },
    {
      "cell_type": "code",
      "metadata": {
        "id": "fSUOohBQ9J3r",
        "colab_type": "code",
        "outputId": "92327784-2fb9-4a47-f9e0-83abcfd34c13",
        "colab": {
          "base_uri": "https://localhost:8080/",
          "height": 241
        }
      },
      "source": [
        "\n",
        "model.layers[0].set_weights([embedding_matrix])\n",
        "model.layers[0].trainable = False"
      ],
      "execution_count": 0,
      "outputs": [
        {
          "output_type": "stream",
          "text": [
            "WARNING:tensorflow:From /usr/local/lib/python3.6/dist-packages/keras/backend/tensorflow_backend.py:190: The name tf.get_default_session is deprecated. Please use tf.compat.v1.get_default_session instead.\n",
            "\n",
            "WARNING:tensorflow:From /usr/local/lib/python3.6/dist-packages/keras/backend/tensorflow_backend.py:197: The name tf.ConfigProto is deprecated. Please use tf.compat.v1.ConfigProto instead.\n",
            "\n",
            "WARNING:tensorflow:From /usr/local/lib/python3.6/dist-packages/keras/backend/tensorflow_backend.py:203: The name tf.Session is deprecated. Please use tf.compat.v1.Session instead.\n",
            "\n",
            "WARNING:tensorflow:From /usr/local/lib/python3.6/dist-packages/keras/backend/tensorflow_backend.py:207: The name tf.global_variables is deprecated. Please use tf.compat.v1.global_variables instead.\n",
            "\n",
            "WARNING:tensorflow:From /usr/local/lib/python3.6/dist-packages/keras/backend/tensorflow_backend.py:216: The name tf.is_variable_initialized is deprecated. Please use tf.compat.v1.is_variable_initialized instead.\n",
            "\n",
            "WARNING:tensorflow:From /usr/local/lib/python3.6/dist-packages/keras/backend/tensorflow_backend.py:223: The name tf.variables_initializer is deprecated. Please use tf.compat.v1.variables_initializer instead.\n",
            "\n"
          ],
          "name": "stdout"
        }
      ]
    },
    {
      "cell_type": "markdown",
      "metadata": {
        "id": "5jzwr679CSBl",
        "colab_type": "text"
      },
      "source": [
        "# Compile and train the model"
      ]
    },
    {
      "cell_type": "code",
      "metadata": {
        "id": "kLdONR1n9MgG",
        "colab_type": "code",
        "outputId": "f9c83cdd-7833-42de-aa2d-2160ae818873",
        "colab": {
          "base_uri": "https://localhost:8080/",
          "height": 1000
        }
      },
      "source": [
        "model.compile(optimizer='rmsprop',\n",
        "              loss='binary_crossentropy',\n",
        "              metrics=['acc'])\n",
        "\n",
        "history = model.fit(x_train, y_train,\n",
        "                    epochs=100,\n",
        "                    batch_size=32,\n",
        "                    validation_data=(x_val, y_val)\n",
        "                    )\n",
        "\n",
        "model.save_weights('pre_trained_glove_model.h5')"
      ],
      "execution_count": 0,
      "outputs": [
        {
          "output_type": "stream",
          "text": [
            "WARNING:tensorflow:From /usr/local/lib/python3.6/dist-packages/keras/optimizers.py:793: The name tf.train.Optimizer is deprecated. Please use tf.compat.v1.train.Optimizer instead.\n",
            "\n",
            "WARNING:tensorflow:From /usr/local/lib/python3.6/dist-packages/keras/backend/tensorflow_backend.py:3657: The name tf.log is deprecated. Please use tf.math.log instead.\n",
            "\n",
            "WARNING:tensorflow:From /usr/local/lib/python3.6/dist-packages/tensorflow_core/python/ops/nn_impl.py:183: where (from tensorflow.python.ops.array_ops) is deprecated and will be removed in a future version.\n",
            "Instructions for updating:\n",
            "Use tf.where in 2.0, which has the same broadcast rule as np.where\n",
            "WARNING:tensorflow:From /usr/local/lib/python3.6/dist-packages/keras/backend/tensorflow_backend.py:1033: The name tf.assign_add is deprecated. Please use tf.compat.v1.assign_add instead.\n",
            "\n",
            "WARNING:tensorflow:From /usr/local/lib/python3.6/dist-packages/keras/backend/tensorflow_backend.py:1020: The name tf.assign is deprecated. Please use tf.compat.v1.assign instead.\n",
            "\n",
            "Train on 8000 samples, validate on 10000 samples\n",
            "Epoch 1/100\n",
            "8000/8000 [==============================] - 3s 368us/step - loss: 0.7117 - acc: 0.5649 - val_loss: 0.6617 - val_acc: 0.5961\n",
            "Epoch 2/100\n",
            "8000/8000 [==============================] - 1s 135us/step - loss: 0.5946 - acc: 0.6835 - val_loss: 0.6133 - val_acc: 0.6540\n",
            "Epoch 3/100\n",
            "8000/8000 [==============================] - 1s 141us/step - loss: 0.4971 - acc: 0.7659 - val_loss: 0.5930 - val_acc: 0.6910\n",
            "Epoch 4/100\n",
            "8000/8000 [==============================] - 1s 139us/step - loss: 0.4145 - acc: 0.8151 - val_loss: 0.5921 - val_acc: 0.7077\n",
            "Epoch 5/100\n",
            "8000/8000 [==============================] - 1s 140us/step - loss: 0.3715 - acc: 0.8375 - val_loss: 0.6849 - val_acc: 0.6712\n",
            "Epoch 6/100\n",
            "8000/8000 [==============================] - 1s 146us/step - loss: 0.3074 - acc: 0.8706 - val_loss: 0.7510 - val_acc: 0.6816\n",
            "Epoch 7/100\n",
            "8000/8000 [==============================] - 1s 149us/step - loss: 0.2584 - acc: 0.8931 - val_loss: 0.7071 - val_acc: 0.6922\n",
            "Epoch 8/100\n",
            "8000/8000 [==============================] - 1s 151us/step - loss: 0.2085 - acc: 0.9190 - val_loss: 0.8452 - val_acc: 0.6727\n",
            "Epoch 9/100\n",
            "8000/8000 [==============================] - 1s 146us/step - loss: 0.1687 - acc: 0.9361 - val_loss: 0.8973 - val_acc: 0.6870\n",
            "Epoch 10/100\n",
            "8000/8000 [==============================] - 1s 145us/step - loss: 0.1261 - acc: 0.9526 - val_loss: 1.2000 - val_acc: 0.6514\n",
            "Epoch 11/100\n",
            "8000/8000 [==============================] - 1s 140us/step - loss: 0.0998 - acc: 0.9661 - val_loss: 0.9474 - val_acc: 0.6970\n",
            "Epoch 12/100\n",
            "8000/8000 [==============================] - 1s 139us/step - loss: 0.0825 - acc: 0.9743 - val_loss: 1.1108 - val_acc: 0.6854\n",
            "Epoch 13/100\n",
            "8000/8000 [==============================] - 1s 141us/step - loss: 0.0565 - acc: 0.9828 - val_loss: 1.1215 - val_acc: 0.6873\n",
            "Epoch 14/100\n",
            "8000/8000 [==============================] - 1s 167us/step - loss: 0.0461 - acc: 0.9865 - val_loss: 1.1700 - val_acc: 0.6821\n",
            "Epoch 15/100\n",
            "8000/8000 [==============================] - 1s 148us/step - loss: 0.0397 - acc: 0.9882 - val_loss: 1.6142 - val_acc: 0.6617\n",
            "Epoch 16/100\n",
            "8000/8000 [==============================] - 1s 141us/step - loss: 0.0317 - acc: 0.9888 - val_loss: 1.3396 - val_acc: 0.6868\n",
            "Epoch 17/100\n",
            "8000/8000 [==============================] - 1s 146us/step - loss: 0.0339 - acc: 0.9897 - val_loss: 1.4126 - val_acc: 0.6892\n",
            "Epoch 18/100\n",
            "8000/8000 [==============================] - 1s 141us/step - loss: 0.0155 - acc: 0.9941 - val_loss: 1.4815 - val_acc: 0.6799\n",
            "Epoch 19/100\n",
            "8000/8000 [==============================] - 1s 144us/step - loss: 0.0244 - acc: 0.9924 - val_loss: 2.2281 - val_acc: 0.6453\n",
            "Epoch 20/100\n",
            "8000/8000 [==============================] - 1s 143us/step - loss: 0.0197 - acc: 0.9932 - val_loss: 1.6203 - val_acc: 0.6821\n",
            "Epoch 21/100\n",
            "8000/8000 [==============================] - 1s 146us/step - loss: 0.0245 - acc: 0.9928 - val_loss: 1.6800 - val_acc: 0.6808\n",
            "Epoch 22/100\n",
            "8000/8000 [==============================] - 1s 140us/step - loss: 0.0205 - acc: 0.9941 - val_loss: 1.7229 - val_acc: 0.6816\n",
            "Epoch 23/100\n",
            "8000/8000 [==============================] - 1s 145us/step - loss: 0.0171 - acc: 0.9944 - val_loss: 1.8473 - val_acc: 0.6742\n",
            "Epoch 24/100\n",
            "8000/8000 [==============================] - 1s 137us/step - loss: 0.0219 - acc: 0.9929 - val_loss: 1.8300 - val_acc: 0.6841\n",
            "Epoch 25/100\n",
            "8000/8000 [==============================] - 1s 141us/step - loss: 0.0190 - acc: 0.9944 - val_loss: 1.8827 - val_acc: 0.6818\n",
            "Epoch 26/100\n",
            "8000/8000 [==============================] - 1s 146us/step - loss: 0.0119 - acc: 0.9955 - val_loss: 1.7668 - val_acc: 0.6828\n",
            "Epoch 27/100\n",
            "8000/8000 [==============================] - 1s 145us/step - loss: 0.0097 - acc: 0.9969 - val_loss: 1.9880 - val_acc: 0.6823\n",
            "Epoch 28/100\n",
            "8000/8000 [==============================] - 1s 139us/step - loss: 0.0091 - acc: 0.9969 - val_loss: 3.1461 - val_acc: 0.6240\n",
            "Epoch 29/100\n",
            "8000/8000 [==============================] - 1s 138us/step - loss: 0.0151 - acc: 0.9952 - val_loss: 1.9633 - val_acc: 0.6829\n",
            "Epoch 30/100\n",
            "8000/8000 [==============================] - 1s 139us/step - loss: 0.0069 - acc: 0.9973 - val_loss: 2.0416 - val_acc: 0.6878\n",
            "Epoch 31/100\n",
            "8000/8000 [==============================] - 1s 143us/step - loss: 0.0080 - acc: 0.9971 - val_loss: 2.1082 - val_acc: 0.6850\n",
            "Epoch 32/100\n",
            "8000/8000 [==============================] - 1s 166us/step - loss: 0.0133 - acc: 0.9951 - val_loss: 2.0744 - val_acc: 0.6821\n",
            "Epoch 33/100\n",
            "8000/8000 [==============================] - 1s 144us/step - loss: 0.0088 - acc: 0.9966 - val_loss: 2.0510 - val_acc: 0.6794\n",
            "Epoch 34/100\n",
            "8000/8000 [==============================] - 1s 140us/step - loss: 0.0048 - acc: 0.9980 - val_loss: 2.1627 - val_acc: 0.6822\n",
            "Epoch 35/100\n",
            "8000/8000 [==============================] - 1s 142us/step - loss: 0.0039 - acc: 0.9981 - val_loss: 2.1904 - val_acc: 0.6838\n",
            "Epoch 36/100\n",
            "8000/8000 [==============================] - 1s 144us/step - loss: 0.0059 - acc: 0.9978 - val_loss: 2.2115 - val_acc: 0.6829\n",
            "Epoch 37/100\n",
            "8000/8000 [==============================] - 1s 143us/step - loss: 0.0076 - acc: 0.9973 - val_loss: 2.2040 - val_acc: 0.6801\n",
            "Epoch 38/100\n",
            "8000/8000 [==============================] - 1s 141us/step - loss: 0.0099 - acc: 0.9973 - val_loss: 2.2763 - val_acc: 0.6824\n",
            "Epoch 39/100\n",
            "8000/8000 [==============================] - 1s 169us/step - loss: 0.0068 - acc: 0.9974 - val_loss: 2.3070 - val_acc: 0.6809\n",
            "Epoch 40/100\n",
            "8000/8000 [==============================] - 1s 140us/step - loss: 0.0032 - acc: 0.9988 - val_loss: 2.2666 - val_acc: 0.6821\n",
            "Epoch 41/100\n",
            "8000/8000 [==============================] - 1s 145us/step - loss: 0.0064 - acc: 0.9976 - val_loss: 2.3757 - val_acc: 0.6828\n",
            "Epoch 42/100\n",
            "8000/8000 [==============================] - 1s 142us/step - loss: 0.0055 - acc: 0.9983 - val_loss: 2.4679 - val_acc: 0.6773\n",
            "Epoch 43/100\n",
            "8000/8000 [==============================] - 1s 141us/step - loss: 0.0012 - acc: 0.9992 - val_loss: 2.4134 - val_acc: 0.6786\n",
            "Epoch 44/100\n",
            "8000/8000 [==============================] - 1s 140us/step - loss: 0.0063 - acc: 0.9973 - val_loss: 2.3969 - val_acc: 0.6810\n",
            "Epoch 45/100\n",
            "8000/8000 [==============================] - 1s 137us/step - loss: 0.0069 - acc: 0.9984 - val_loss: 2.4192 - val_acc: 0.6791\n",
            "Epoch 46/100\n",
            "8000/8000 [==============================] - 1s 143us/step - loss: 0.0022 - acc: 0.9994 - val_loss: 2.4400 - val_acc: 0.6786\n",
            "Epoch 47/100\n",
            "8000/8000 [==============================] - 1s 139us/step - loss: 0.0033 - acc: 0.9991 - val_loss: 2.4633 - val_acc: 0.6809\n",
            "Epoch 48/100\n",
            "8000/8000 [==============================] - 1s 143us/step - loss: 0.0049 - acc: 0.9988 - val_loss: 2.4532 - val_acc: 0.6803\n",
            "Epoch 49/100\n",
            "8000/8000 [==============================] - 1s 145us/step - loss: 0.0054 - acc: 0.9979 - val_loss: 2.7227 - val_acc: 0.6733\n",
            "Epoch 50/100\n",
            "8000/8000 [==============================] - 1s 141us/step - loss: 0.0058 - acc: 0.9983 - val_loss: 2.5198 - val_acc: 0.6851\n",
            "Epoch 51/100\n",
            "8000/8000 [==============================] - 1s 141us/step - loss: 0.0025 - acc: 0.9990 - val_loss: 3.3357 - val_acc: 0.6512\n",
            "Epoch 52/100\n",
            "8000/8000 [==============================] - 1s 162us/step - loss: 0.0069 - acc: 0.9983 - val_loss: 2.6006 - val_acc: 0.6799\n",
            "Epoch 53/100\n",
            "8000/8000 [==============================] - 1s 143us/step - loss: 0.0018 - acc: 0.9995 - val_loss: 2.6545 - val_acc: 0.6796\n",
            "Epoch 54/100\n",
            "8000/8000 [==============================] - 1s 137us/step - loss: 0.0028 - acc: 0.9989 - val_loss: 2.6466 - val_acc: 0.6871\n",
            "Epoch 55/100\n",
            "8000/8000 [==============================] - 1s 143us/step - loss: 0.0015 - acc: 0.9994 - val_loss: 2.6521 - val_acc: 0.6838\n",
            "Epoch 56/100\n",
            "8000/8000 [==============================] - 1s 136us/step - loss: 0.0013 - acc: 0.9994 - val_loss: 2.6635 - val_acc: 0.6812\n",
            "Epoch 57/100\n",
            "8000/8000 [==============================] - 1s 141us/step - loss: 0.0030 - acc: 0.9992 - val_loss: 2.7062 - val_acc: 0.6853\n",
            "Epoch 58/100\n",
            "8000/8000 [==============================] - 1s 135us/step - loss: 0.0012 - acc: 0.9994 - val_loss: 2.6864 - val_acc: 0.6867\n",
            "Epoch 59/100\n",
            "8000/8000 [==============================] - 1s 142us/step - loss: 0.0012 - acc: 0.9995 - val_loss: 2.7857 - val_acc: 0.6810\n",
            "Epoch 60/100\n",
            "8000/8000 [==============================] - 1s 137us/step - loss: 0.0057 - acc: 0.9988 - val_loss: 2.7716 - val_acc: 0.6830\n",
            "Epoch 61/100\n",
            "8000/8000 [==============================] - 1s 140us/step - loss: 0.0033 - acc: 0.9991 - val_loss: 2.8266 - val_acc: 0.6861\n",
            "Epoch 62/100\n",
            "8000/8000 [==============================] - 1s 141us/step - loss: 0.0010 - acc: 0.9998 - val_loss: 2.8167 - val_acc: 0.6850\n",
            "Epoch 63/100\n",
            "8000/8000 [==============================] - 1s 141us/step - loss: 0.0017 - acc: 0.9998 - val_loss: 2.8485 - val_acc: 0.6845\n",
            "Epoch 64/100\n",
            "8000/8000 [==============================] - 1s 144us/step - loss: 5.8469e-04 - acc: 0.9996 - val_loss: 2.8376 - val_acc: 0.6818\n",
            "Epoch 65/100\n",
            "8000/8000 [==============================] - 1s 142us/step - loss: 0.0018 - acc: 0.9995 - val_loss: 2.8551 - val_acc: 0.6787\n",
            "Epoch 66/100\n",
            "8000/8000 [==============================] - 1s 153us/step - loss: 0.0014 - acc: 0.9995 - val_loss: 2.8387 - val_acc: 0.6815\n",
            "Epoch 67/100\n",
            "8000/8000 [==============================] - 1s 155us/step - loss: 0.0021 - acc: 0.9991 - val_loss: 2.9458 - val_acc: 0.6773\n",
            "Epoch 68/100\n",
            "8000/8000 [==============================] - 1s 148us/step - loss: 0.0010 - acc: 0.9998 - val_loss: 2.9035 - val_acc: 0.6864\n",
            "Epoch 69/100\n",
            "8000/8000 [==============================] - 1s 143us/step - loss: 6.2708e-04 - acc: 0.9999 - val_loss: 2.9102 - val_acc: 0.6821\n",
            "Epoch 70/100\n",
            "8000/8000 [==============================] - 1s 147us/step - loss: 0.0034 - acc: 0.9994 - val_loss: 2.9171 - val_acc: 0.6823\n",
            "Epoch 71/100\n",
            "8000/8000 [==============================] - 1s 146us/step - loss: 5.4609e-04 - acc: 0.9998 - val_loss: 2.9494 - val_acc: 0.6844\n",
            "Epoch 72/100\n",
            "8000/8000 [==============================] - 1s 140us/step - loss: 0.0020 - acc: 0.9996 - val_loss: 2.8928 - val_acc: 0.6807\n",
            "Epoch 73/100\n",
            "8000/8000 [==============================] - 1s 141us/step - loss: 0.0012 - acc: 0.9998 - val_loss: 2.9171 - val_acc: 0.6823\n",
            "Epoch 74/100\n",
            "8000/8000 [==============================] - 1s 142us/step - loss: 2.6416e-04 - acc: 0.9999 - val_loss: 2.9460 - val_acc: 0.6786\n",
            "Epoch 75/100\n",
            "8000/8000 [==============================] - 1s 141us/step - loss: 0.0015 - acc: 0.9995 - val_loss: 3.0711 - val_acc: 0.6737\n",
            "Epoch 76/100\n",
            "8000/8000 [==============================] - 1s 145us/step - loss: 8.3233e-04 - acc: 0.9999 - val_loss: 3.0049 - val_acc: 0.6816\n",
            "Epoch 77/100\n",
            "8000/8000 [==============================] - 1s 150us/step - loss: 9.2991e-05 - acc: 1.0000 - val_loss: 2.9729 - val_acc: 0.6845\n",
            "Epoch 78/100\n",
            "8000/8000 [==============================] - 1s 152us/step - loss: 0.0013 - acc: 0.9996 - val_loss: 3.0218 - val_acc: 0.6847\n",
            "Epoch 79/100\n",
            "8000/8000 [==============================] - 1s 148us/step - loss: 9.1540e-05 - acc: 1.0000 - val_loss: 3.1206 - val_acc: 0.6862\n",
            "Epoch 80/100\n",
            "8000/8000 [==============================] - 1s 143us/step - loss: 0.0014 - acc: 0.9994 - val_loss: 3.1241 - val_acc: 0.6765\n",
            "Epoch 81/100\n",
            "8000/8000 [==============================] - 1s 145us/step - loss: 6.6632e-04 - acc: 0.9998 - val_loss: 3.0942 - val_acc: 0.6818\n",
            "Epoch 82/100\n",
            "8000/8000 [==============================] - 1s 152us/step - loss: 2.8792e-04 - acc: 1.0000 - val_loss: 3.0790 - val_acc: 0.6843\n",
            "Epoch 83/100\n",
            "8000/8000 [==============================] - 1s 146us/step - loss: 0.0013 - acc: 0.9998 - val_loss: 3.1052 - val_acc: 0.6804\n",
            "Epoch 84/100\n",
            "8000/8000 [==============================] - 1s 177us/step - loss: 1.1912e-04 - acc: 1.0000 - val_loss: 3.7102 - val_acc: 0.6517\n",
            "Epoch 85/100\n",
            "8000/8000 [==============================] - 1s 153us/step - loss: 7.0308e-04 - acc: 0.9998 - val_loss: 3.1356 - val_acc: 0.6808\n",
            "Epoch 86/100\n",
            "8000/8000 [==============================] - 1s 145us/step - loss: 0.0013 - acc: 0.9995 - val_loss: 3.0778 - val_acc: 0.6780\n",
            "Epoch 87/100\n",
            "8000/8000 [==============================] - 1s 138us/step - loss: 2.9133e-04 - acc: 1.0000 - val_loss: 3.1091 - val_acc: 0.6796\n",
            "Epoch 88/100\n",
            "8000/8000 [==============================] - 1s 147us/step - loss: 0.0025 - acc: 0.9991 - val_loss: 3.0867 - val_acc: 0.6764\n",
            "Epoch 89/100\n",
            "8000/8000 [==============================] - 1s 138us/step - loss: 4.9641e-04 - acc: 0.9999 - val_loss: 3.1796 - val_acc: 0.6802\n",
            "Epoch 90/100\n",
            "8000/8000 [==============================] - 1s 145us/step - loss: 6.3069e-04 - acc: 0.9999 - val_loss: 3.2869 - val_acc: 0.6810\n",
            "Epoch 91/100\n",
            "8000/8000 [==============================] - 1s 158us/step - loss: 1.0905e-04 - acc: 1.0000 - val_loss: 3.2066 - val_acc: 0.6828\n",
            "Epoch 92/100\n",
            "8000/8000 [==============================] - 1s 137us/step - loss: 8.4157e-05 - acc: 1.0000 - val_loss: 3.2200 - val_acc: 0.6801\n",
            "Epoch 93/100\n",
            "8000/8000 [==============================] - 1s 141us/step - loss: 4.8338e-04 - acc: 0.9999 - val_loss: 3.2460 - val_acc: 0.6825\n",
            "Epoch 94/100\n",
            "8000/8000 [==============================] - 1s 140us/step - loss: 9.8611e-05 - acc: 1.0000 - val_loss: 3.2720 - val_acc: 0.6826\n",
            "Epoch 95/100\n",
            "8000/8000 [==============================] - 1s 139us/step - loss: 1.4072e-04 - acc: 1.0000 - val_loss: 3.2231 - val_acc: 0.6830\n",
            "Epoch 96/100\n",
            "8000/8000 [==============================] - 1s 139us/step - loss: 0.0011 - acc: 0.9999 - val_loss: 3.2738 - val_acc: 0.6818\n",
            "Epoch 97/100\n",
            "8000/8000 [==============================] - 1s 138us/step - loss: 0.0013 - acc: 0.9998 - val_loss: 3.2393 - val_acc: 0.6851\n",
            "Epoch 98/100\n",
            "8000/8000 [==============================] - 1s 137us/step - loss: 8.2330e-05 - acc: 1.0000 - val_loss: 3.2805 - val_acc: 0.6867\n",
            "Epoch 99/100\n",
            "8000/8000 [==============================] - 1s 136us/step - loss: 7.7560e-04 - acc: 0.9999 - val_loss: 3.3028 - val_acc: 0.6778\n",
            "Epoch 100/100\n",
            "8000/8000 [==============================] - 1s 137us/step - loss: 0.0014 - acc: 0.9996 - val_loss: 3.2920 - val_acc: 0.6824\n"
          ],
          "name": "stdout"
        }
      ]
    },
    {
      "cell_type": "markdown",
      "metadata": {
        "id": "7uj9gmyKCanv",
        "colab_type": "text"
      },
      "source": [
        "# Plot the Output to see the performance"
      ]
    },
    {
      "cell_type": "code",
      "metadata": {
        "id": "5b93br3b9TMp",
        "colab_type": "code",
        "outputId": "9c5cf1d7-153b-4d45-b3fe-4b953256ad83",
        "colab": {
          "base_uri": "https://localhost:8080/",
          "height": 545
        }
      },
      "source": [
        "import matplotlib.pyplot as plt\n",
        "acc = history.history['acc']\n",
        "val_acc = history.history['val_acc']\n",
        "loss = history.history['loss']\n",
        "val_loss = history.history['val_loss']\n",
        "epochs = range(1, len(acc) + 1)\n",
        "plt.plot(epochs, acc, 'bo', label='Training acc')\n",
        "plt.plot(epochs, val_acc, 'b', label='Validation acc')\n",
        "plt.title('Training and validation accuracy')\n",
        "plt.legend()\n",
        "plt.figure()\n",
        "plt.plot(epochs, loss, 'bo', label='Training loss')\n",
        "plt.plot(epochs, val_loss, 'b', label='Validation loss')\n",
        "plt.title('Training and validation loss')\n",
        "plt.legend()\n",
        "plt.show()"
      ],
      "execution_count": 0,
      "outputs": [
        {
          "output_type": "display_data",
          "data": {
            "image/png": "[encoded data removed]",
            "text/plain": [
              "<Figure size 432x288 with 1 Axes>"
            ]
          },
          "metadata": {
            "tags": []
          }
        },
        {
          "output_type": "display_data",
          "data": {
            "image/png": "[encoded data removed]",
            "text/plain": [
              "<Figure size 432x288 with 1 Axes>"
            ]
          },
          "metadata": {
            "tags": []
          }
        }
      ]
    },
    {
      "cell_type": "code",
      "metadata": {
        "id": "alpYbOhA9X7o",
        "colab_type": "code",
        "colab": {}
      },
      "source": [
        ""
      ],
      "execution_count": 0,
      "outputs": []
    }
  ]
}
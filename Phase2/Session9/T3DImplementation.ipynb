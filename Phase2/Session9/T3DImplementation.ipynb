{
  "nbformat": 4,
  "nbformat_minor": 0,
  "metadata": {
    "colab": {
      "name": "Untitled4.ipynb",
      "provenance": [],
      "authorship_tag": "ABX9TyM64wTFbwvpZ9NCqeMERYT0",
      "include_colab_link": true
    },
    "kernelspec": {
      "name": "python3",
      "display_name": "Python 3"
    }
  },
  "cells": [
    {
      "cell_type": "markdown",
      "metadata": {
        "id": "view-in-github",
        "colab_type": "text"
      },
      "source": [
        "<a href=\"https://colab.research.google.com/github/sudhakarmlal/EVA/blob/master/Phase2/Session9/T3DImplementation.ipynb\" target=\"_parent\"><img src=\"https://colab.research.google.com/assets/colab-badge.svg\" alt=\"Open In Colab\"/></a>"
      ]
    },
    {
      "cell_type": "code",
      "metadata": {
        "id": "I4Nnbkf0QaCL",
        "colab_type": "code",
        "colab": {}
      },
      "source": [
        "import os\n",
        "import time\n",
        "import random\n",
        "import numpy as np\n",
        "import matplotlib.pyplot as plt\n",
        "import pybullet_envs\n",
        "import gym\n",
        "import torch\n",
        "import torch.nn as nn\n",
        "import torch.nn.functional as F\n",
        "from gym import wrappers\n",
        "from torch.autograd import Variable\n",
        "from collections import deque"
      ],
      "execution_count": 0,
      "outputs": []
    },
    {
      "cell_type": "markdown",
      "metadata": {
        "id": "_2AdaATVRAEi",
        "colab_type": "text"
      },
      "source": [
        "**STEP1**"
      ]
    },
    {
      "cell_type": "code",
      "metadata": {
        "id": "hGPGX1f6Q9_5",
        "colab_type": "code",
        "colab": {}
      },
      "source": [
        "class ReplayBuffer(object):\n",
        "  def _init_(self,max_size=1e6):\n",
        "    self.storage = []\n",
        "    self.max_size = max_size\n",
        "    self.ptr  = 0\n",
        "\n",
        "  def add(self,transition):\n",
        "    if len(self.storage) == self.max_size:\n",
        "      self.storage[int(self.prt)] = transition.\n",
        "      self.ptr = (self.ptr +1) % self.max_size\n",
        "    else:\n",
        "      self.storage.append(transition)\n",
        "\n",
        "  def sample(self,batch_size):\n",
        "    ind = np.random.randint(0,len(self.storage),batch_size)\n",
        "    batch_states,batch_next_states,batch_actions,batch_rewards, \\\n",
        "        batch_dones = [],[],[],[]\n",
        "    for i in ind:\n",
        "      state,next_state,action,reward,done = self.storage[i]\n",
        "      batch_states.append(np.array(state,copy=False))\n",
        "      bat_next_states.append(np.array(next_state,copy=False))\n",
        "      bat_actions.append(np.array(action,copy=False))\n",
        "      bat_rewards.append(np.array(reward,copy=False))\n",
        "      bat_dones.append(np.array(done,copy=False))\n",
        "    return np.array(batch_states) ,np.array(batch_next_states), \\\n",
        "         np.array(batch_actions) ,np.array(batch_rewards).reshape(-1,1), \\\n",
        "              np.array(batch_dones).reshape(-1,1)\n",
        "\n"
      ],
      "execution_count": 0,
      "outputs": []
    },
    {
      "cell_type": "markdown",
      "metadata": {
        "id": "mMfoosbUUuAH",
        "colab_type": "text"
      },
      "source": [
        "**STEP2**"
      ]
    },
    {
      "cell_type": "code",
      "metadata": {
        "id": "MZAkHnCjTi64",
        "colab_type": "code",
        "colab": {}
      },
      "source": [
        "class Actor(nn.Module):\n",
        "  def __init__(self,state_dims,action_dim,max_action):\n",
        "    #max_action is to clip in case  we added  too much  noise\n",
        "    super(Actor,self).__init__() # activate  the inheritance\n",
        "    self.layer_1 = nn.Linear(state_dims,400)\n",
        "    self.layer_2 = nn.Linear(400,300)\n",
        "    self.layer_3 = nn.Linear(300,action_dim)\n",
        "    self.max_action = max_action\n",
        "\n",
        "  def forward(self,x):\n",
        "    x = F.relu(self.layer_1(x))\n",
        "    x = F.relu(self.layer_2(x))\n",
        "    x = self.max_action * torch.tanh(self.layer_3(x))\n",
        "    return x       "
      ],
      "execution_count": 0,
      "outputs": []
    },
    {
      "cell_type": "markdown",
      "metadata": {
        "id": "5u4eWuZZUyIB",
        "colab_type": "text"
      },
      "source": [
        "**STEP3**"
      ]
    },
    {
      "cell_type": "code",
      "metadata": {
        "id": "N40vXARiU121",
        "colab_type": "code",
        "colab": {}
      },
      "source": [
        "class Critic(nn.Module):\n",
        "  def __init__(self,state_dims,action_dim):\n",
        "    #max_action is to clip in case we added too much noise\n",
        "    super(Criti,self).__init__()\n",
        "    #First Critic Network\n",
        "    self.layer_1 = nn.Linear(state_dims+action_dim,400)\n",
        "    self.layer_2 = nn.Linear(400,300)\n",
        "    self.layer_3 = nn.Linear(300,action_dim)\n",
        "\n",
        "    #Second Critic Network\n",
        "    self.layer_4 = nn.Linear(state_dims+action_dim,400)\n",
        "    self.layer_5 = nn.Linear(400,300)\n",
        "    self.layer_6 = nn.Linear(300,action_dim)\n",
        "\n",
        "  def forward(self,x,u):\n",
        "    xu = torch.cat([x,u],1) # 1 for vertical concatenation, 0 for Hzntl\n",
        "    # forward propagation on first ritic\n",
        "    x = F.relu(self.layer_1(xu))\n",
        "    x = F.relu(self.layer_2(x1))\n",
        "    x1 = self.layer_3(x1)\n",
        "    # forward propagation on second Critic\n",
        "    x2 = F.relu(self.layer_4(xu))\n",
        "    x2 = F.relu(self.layer_5(x2))\n",
        "    x2 = self.layer_6(x2)\n",
        "    \n",
        "    return x1,x2   \n",
        "\n",
        "  def Q1(self,x,u):  #x - state, u=  action This is used for updating the Q values\n",
        "     xu = torch.cat([x,u],1) # 1 for vertical concatenation, 0 for Hzntl\n",
        "     x = F.relu(self.layer_1(xu))\n",
        "     x = F.relu(self.layer_2(x1))\n",
        "     x1 = self.layer_3(x1)\n",
        "     return x1 \n"
      ],
      "execution_count": 0,
      "outputs": []
    },
    {
      "cell_type": "markdown",
      "metadata": {
        "id": "lKe9pdoMWwMo",
        "colab_type": "text"
      },
      "source": [
        "**STEP4**"
      ]
    },
    {
      "cell_type": "code",
      "metadata": {
        "id": "HnG7hyQCW3E4",
        "colab_type": "code",
        "colab": {}
      },
      "source": [
        "def train(self,replay_buffer,iterations,batch_size=100,discount=0.99,\n",
        "          tau=0.005,policy_noise=0.2,noise_clip=0.5,policy_freq=2):\n",
        "  for it in range(iterations):\n",
        "    #Step 4 we sample from a batch of transitions (s,s',a,r) from memory\n",
        "    batch_states,batch_next_states,batch_actions,batch_rewards,batch_dones \\\n",
        "       = replay_buffer.sample(batch_size)\n",
        "    state = torch.Tensor(batch_states).to(device)\n",
        "    next_state = torch.Tensor(batch_next_states).to(device)\n",
        "    action = torch.Tensor(batch_actions).to(device)\n",
        "    reward = torch.Tensor(batch_rewards).to(device)\n",
        "    done =   torch.Tensor(batch_dones).to(device)"
      ],
      "execution_count": 0,
      "outputs": []
    },
    {
      "cell_type": "markdown",
      "metadata": {
        "id": "lNdH-ugVY53N",
        "colab_type": "text"
      },
      "source": [
        "**STEP5**"
      ]
    },
    {
      "cell_type": "code",
      "metadata": {
        "id": "9h9MxICRY_mY",
        "colab_type": "code",
        "colab": {}
      },
      "source": [
        "# Step 5: From the next state s',the Actor target plays the next action a'\n",
        "next_action = self.actor_target.forward(next_state)"
      ],
      "execution_count": 0,
      "outputs": []
    },
    {
      "cell_type": "markdown",
      "metadata": {
        "id": "VPrqs8NLZWpf",
        "colab_type": "text"
      },
      "source": [
        "**STEP6**"
      ]
    },
    {
      "cell_type": "code",
      "metadata": {
        "id": "0oGw5PUpZanC",
        "colab_type": "code",
        "colab": {}
      },
      "source": [
        "#Step 6: We add Gaussian noise to the next action a' and we clamp it in a \n",
        "# range of values supported by the environment\n",
        "noise = torch.Tensor(batch_actions).data.normal_(0,policy_noise).to(device)\n",
        "noise = noise.clamp(-noise_clip,noise_clip)\n",
        "next_action = (next_action + noise).clamp(-self.max_action,self.max_action)\n",
        "\n"
      ],
      "execution_count": 0,
      "outputs": []
    }
  ]
}
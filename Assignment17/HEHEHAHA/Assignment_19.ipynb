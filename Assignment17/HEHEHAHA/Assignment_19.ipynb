{
  "nbformat": 4,
  "nbformat_minor": 0,
  "metadata": {
    "kernelspec": {
      "display_name": "Python 3",
      "language": "python",
      "name": "python3"
    },
    "language_info": {
      "codemirror_mode": {
        "name": "ipython",
        "version": 3
      },
      "file_extension": ".py",
      "mimetype": "text/x-python",
      "name": "python",
      "nbconvert_exporter": "python",
      "pygments_lexer": "ipython3",
      "version": "3.6.8"
    },
    "colab": {
      "name": "Assignment_19.ipynb",
      "provenance": [],
      "include_colab_link": true
    }
  },
  "cells": [
    {
      "cell_type": "markdown",
      "metadata": {
        "id": "view-in-github",
        "colab_type": "text"
      },
      "source": [
        "<a href=\"https://colab.research.google.com/github/sudhakarmlal/EVA/blob/master/Assignment17/HEHEHAHA/Assignment_19.ipynb\" target=\"_parent\"><img src=\"https://colab.research.google.com/assets/colab-badge.svg\" alt=\"Open In Colab\"/></a>"
      ]
    },
    {
      "cell_type": "code",
      "metadata": {
        "id": "1PYQSj_CN3ed",
        "colab_type": "code",
        "colab": {}
      },
      "source": [
        "from fastai import *"
      ],
      "execution_count": 0,
      "outputs": []
    },
    {
      "cell_type": "code",
      "metadata": {
        "id": "M0YEw4MbN3ei",
        "colab_type": "code",
        "colab": {}
      },
      "source": [
        "from fastai.vision import *"
      ],
      "execution_count": 0,
      "outputs": []
    },
    {
      "cell_type": "code",
      "metadata": {
        "id": "jhhbmInFN3el",
        "colab_type": "code",
        "colab": {},
        "outputId": "8434f2e9-9fc3-4a07-d07f-ff1430c3d7b6"
      },
      "source": [
        "!ls"
      ],
      "execution_count": 0,
      "outputs": [
        {
          "output_type": "stream",
          "text": [
            " BACKUP\t\t\t\t\t\t nomachine_6.5.6_9_amd64.deb\r\n",
            "'Bag_Of_Tricks_1_0_ipynb (1).ipynb'\t\t PE\r\n",
            " Data_19_EVA\t\t\t\t\t PE_EE\r\n",
            " Data_19_EVA.zip\t\t\t\t Siddhant_Python\r\n",
            "'Holiday Calendar 2019  for Bangalore.pdf'\t UBA_files\r\n",
            " -home-gaurav-Backup-fastai-fastai-vision-.txt\t Ueba_Datarolling_sample\r\n",
            " ip_checks\t\t\t\t\t Untitled.ipynb\r\n",
            " kaveri\t\t\t\t\t\t'Web Attacks URL Testing'\r\n",
            " mdr-ml-develop\t\t\t\t\t'Web Attacks URL Testing.7z'\r\n",
            " mdr-ml-develop.zip\r\n"
          ],
          "name": "stdout"
        }
      ]
    },
    {
      "cell_type": "code",
      "metadata": {
        "id": "Adq-1bOMN3eo",
        "colab_type": "code",
        "colab": {},
        "outputId": "74631ff1-e7d5-465e-83b7-11add78b8344"
      },
      "source": [
        "! ls Data_19_EVA/"
      ],
      "execution_count": 0,
      "outputs": [
        {
          "output_type": "stream",
          "text": [
            "Down_Images.txt       Images_Back.txt\tImages_Right.txt  upleft_images.txt\r\n",
            "Downleft_images.txt   Images_Front.txt\tTop_Images.txt\t  upright.txt\r\n",
            "Downright_Images.txt  Images_left.txt\tUp_Images.txt\r\n"
          ],
          "name": "stdout"
        }
      ]
    },
    {
      "cell_type": "code",
      "metadata": {
        "id": "DYLpZbVdN3er",
        "colab_type": "code",
        "colab": {}
      },
      "source": [
        "! cd Data_19_EVA/"
      ],
      "execution_count": 0,
      "outputs": []
    },
    {
      "cell_type": "code",
      "metadata": {
        "id": "aNtJGT11N3et",
        "colab_type": "code",
        "colab": {},
        "outputId": "67ac4951-5391-462f-c107-6f8ee6b1ac2b"
      },
      "source": [
        "! pwd"
      ],
      "execution_count": 0,
      "outputs": [
        {
          "output_type": "stream",
          "text": [
            "/home/gaurav/Desktop\r\n"
          ],
          "name": "stdout"
        }
      ]
    },
    {
      "cell_type": "code",
      "metadata": {
        "id": "kEmYrPrVN3ex",
        "colab_type": "code",
        "colab": {}
      },
      "source": [
        "folder = 'Down'\n",
        "file = 'Down_Images.txt'"
      ],
      "execution_count": 0,
      "outputs": []
    },
    {
      "cell_type": "code",
      "metadata": {
        "id": "LsEnz1DYN3ez",
        "colab_type": "code",
        "colab": {}
      },
      "source": [
        "path = Path('Data_19_EVA/')"
      ],
      "execution_count": 0,
      "outputs": []
    },
    {
      "cell_type": "code",
      "metadata": {
        "id": "g8oo0gYjN3e1",
        "colab_type": "code",
        "colab": {}
      },
      "source": [
        "dest = path/folder\n",
        "dest.mkdir(parents=True,exist_ok=True)"
      ],
      "execution_count": 0,
      "outputs": []
    },
    {
      "cell_type": "code",
      "metadata": {
        "id": "SRrxNI48N3e3",
        "colab_type": "code",
        "colab": {}
      },
      "source": [
        "download_images(path/file,dest,max_pics = 50)"
      ],
      "execution_count": 0,
      "outputs": []
    },
    {
      "cell_type": "code",
      "metadata": {
        "id": "1doacAuCN3e5",
        "colab_type": "code",
        "colab": {}
      },
      "source": [
        "folder = 'Back'\n",
        "file = 'Images_Back.txt'\n"
      ],
      "execution_count": 0,
      "outputs": []
    },
    {
      "cell_type": "code",
      "metadata": {
        "id": "j8LImtc2N3e8",
        "colab_type": "code",
        "colab": {}
      },
      "source": [
        "dest = path/folder\n",
        "dest.mkdir(parents=True,exist_ok=True)"
      ],
      "execution_count": 0,
      "outputs": []
    },
    {
      "cell_type": "code",
      "metadata": {
        "id": "Fzsv0LyiN3e_",
        "colab_type": "code",
        "colab": {}
      },
      "source": [
        "download_images(path/file,dest,max_pics = 30)"
      ],
      "execution_count": 0,
      "outputs": []
    },
    {
      "cell_type": "code",
      "metadata": {
        "id": "cgded0unN3fB",
        "colab_type": "code",
        "colab": {}
      },
      "source": [
        "folder = 'Right'\n",
        "file = 'Images_Right.txt'"
      ],
      "execution_count": 0,
      "outputs": []
    },
    {
      "cell_type": "code",
      "metadata": {
        "id": "0QmAHq_zN3fE",
        "colab_type": "code",
        "colab": {}
      },
      "source": [
        "dest = path/folder\n",
        "dest.mkdir(parents=True,exist_ok=True)"
      ],
      "execution_count": 0,
      "outputs": []
    },
    {
      "cell_type": "code",
      "metadata": {
        "id": "Equyl_TwN3fH",
        "colab_type": "code",
        "colab": {}
      },
      "source": [
        "download_images(path/file,dest,max_pics = 50)"
      ],
      "execution_count": 0,
      "outputs": []
    },
    {
      "cell_type": "code",
      "metadata": {
        "id": "Z6DoNArFN3fJ",
        "colab_type": "code",
        "colab": {}
      },
      "source": [
        "folder = 'Upleft'\n",
        "file = 'upleft_images.txt'"
      ],
      "execution_count": 0,
      "outputs": []
    },
    {
      "cell_type": "code",
      "metadata": {
        "id": "VDIG4KyGN3fO",
        "colab_type": "code",
        "colab": {}
      },
      "source": [
        "dest = path/folder\n",
        "dest.mkdir(parents=True,exist_ok=True)"
      ],
      "execution_count": 0,
      "outputs": []
    },
    {
      "cell_type": "code",
      "metadata": {
        "id": "VRKyRNnrN3fP",
        "colab_type": "code",
        "colab": {}
      },
      "source": [
        ""
      ],
      "execution_count": 0,
      "outputs": []
    },
    {
      "cell_type": "code",
      "metadata": {
        "id": "PiXr3VWKN3fR",
        "colab_type": "code",
        "colab": {}
      },
      "source": [
        "download_images(path/file,dest,max_pics = 50)"
      ],
      "execution_count": 0,
      "outputs": []
    },
    {
      "cell_type": "code",
      "metadata": {
        "id": "ISnbrc9hN3fV",
        "colab_type": "code",
        "colab": {}
      },
      "source": [
        "folder = 'Downleft'\n",
        "file = 'Downleft_images.txt'"
      ],
      "execution_count": 0,
      "outputs": []
    },
    {
      "cell_type": "code",
      "metadata": {
        "id": "E9ckwmbdN3fY",
        "colab_type": "code",
        "colab": {}
      },
      "source": [
        "dest = path/folder\n",
        "dest.mkdir(parents=True,exist_ok=True)"
      ],
      "execution_count": 0,
      "outputs": []
    },
    {
      "cell_type": "code",
      "metadata": {
        "id": "ACtCNl2NN3fe",
        "colab_type": "code",
        "colab": {}
      },
      "source": [
        "download_images(path/file,dest,max_pics = 30)"
      ],
      "execution_count": 0,
      "outputs": []
    },
    {
      "cell_type": "code",
      "metadata": {
        "id": "ww2Wbd_GN3fh",
        "colab_type": "code",
        "colab": {}
      },
      "source": [
        "folder = 'Front'\n",
        "file = 'Images_Front.txt'"
      ],
      "execution_count": 0,
      "outputs": []
    },
    {
      "cell_type": "code",
      "metadata": {
        "id": "ogjzJRYhN3fk",
        "colab_type": "code",
        "colab": {}
      },
      "source": [
        "dest = path/folder\n",
        "dest.mkdir(parents=True,exist_ok=True)"
      ],
      "execution_count": 0,
      "outputs": []
    },
    {
      "cell_type": "code",
      "metadata": {
        "id": "_WSNGCwEN3fn",
        "colab_type": "code",
        "colab": {}
      },
      "source": [
        "download_images(path/file,dest,max_pics = 25)"
      ],
      "execution_count": 0,
      "outputs": []
    },
    {
      "cell_type": "code",
      "metadata": {
        "id": "D2o_7E37N3fp",
        "colab_type": "code",
        "colab": {}
      },
      "source": [
        "Top_Images.txt"
      ],
      "execution_count": 0,
      "outputs": []
    },
    {
      "cell_type": "code",
      "metadata": {
        "id": "vSJJ8P9qN3fr",
        "colab_type": "code",
        "colab": {}
      },
      "source": [
        "folder = 'Top_Images'\n",
        "file = 'Top_Images.txt'"
      ],
      "execution_count": 0,
      "outputs": []
    },
    {
      "cell_type": "code",
      "metadata": {
        "id": "8ZeX8n2LN3fu",
        "colab_type": "code",
        "colab": {}
      },
      "source": [
        "dest = path/folder\n",
        "dest.mkdir(parents=True,exist_ok=True)"
      ],
      "execution_count": 0,
      "outputs": []
    },
    {
      "cell_type": "code",
      "metadata": {
        "id": "LX8J7xExN3fx",
        "colab_type": "code",
        "colab": {}
      },
      "source": [
        "download_images(path/file,dest,max_pics = 35)"
      ],
      "execution_count": 0,
      "outputs": []
    },
    {
      "cell_type": "code",
      "metadata": {
        "id": "JkISkCfGN3fz",
        "colab_type": "code",
        "colab": {}
      },
      "source": [
        "folder = 'Up_right'\n",
        "file = 'upright.txt'"
      ],
      "execution_count": 0,
      "outputs": []
    },
    {
      "cell_type": "code",
      "metadata": {
        "id": "Vrmo6KDaN3f2",
        "colab_type": "code",
        "colab": {}
      },
      "source": [
        "dest = path/folder\n",
        "dest.mkdir(parents=True,exist_ok=True)"
      ],
      "execution_count": 0,
      "outputs": []
    },
    {
      "cell_type": "code",
      "metadata": {
        "id": "_JBPa8O5N3f4",
        "colab_type": "code",
        "colab": {}
      },
      "source": [
        "download_images(path/file,dest,max_pics = 50)"
      ],
      "execution_count": 0,
      "outputs": []
    },
    {
      "cell_type": "code",
      "metadata": {
        "id": "yYU_buFAN3f6",
        "colab_type": "code",
        "colab": {}
      },
      "source": [
        "folder = 'Downright'\n",
        "file = 'Downright_Images.txt'"
      ],
      "execution_count": 0,
      "outputs": []
    },
    {
      "cell_type": "code",
      "metadata": {
        "id": "AfUCY9ItN3f8",
        "colab_type": "code",
        "colab": {}
      },
      "source": [
        "dest = path/folder\n",
        "dest.mkdir(parents=True,exist_ok=True)"
      ],
      "execution_count": 0,
      "outputs": []
    },
    {
      "cell_type": "code",
      "metadata": {
        "id": "tqFV3OWrN3f-",
        "colab_type": "code",
        "colab": {}
      },
      "source": [
        "download_images(path/file,dest,max_pics = 30)"
      ],
      "execution_count": 0,
      "outputs": []
    },
    {
      "cell_type": "code",
      "metadata": {
        "id": "VoPFykr6N3gA",
        "colab_type": "code",
        "colab": {}
      },
      "source": [
        "folder = 'Left'\n",
        "file = 'Images_left.txt'"
      ],
      "execution_count": 0,
      "outputs": []
    },
    {
      "cell_type": "code",
      "metadata": {
        "id": "yZ13pZ_XN3gC",
        "colab_type": "code",
        "colab": {}
      },
      "source": [
        "dest = path/folder\n",
        "dest.mkdir(parents=True,exist_ok=True)"
      ],
      "execution_count": 0,
      "outputs": []
    },
    {
      "cell_type": "code",
      "metadata": {
        "id": "O6cldMjGN3gI",
        "colab_type": "code",
        "colab": {}
      },
      "source": [
        "download_images(path/file,dest,max_pics = 40)"
      ],
      "execution_count": 0,
      "outputs": []
    },
    {
      "cell_type": "code",
      "metadata": {
        "id": "_x0cVnjmN3gM",
        "colab_type": "code",
        "colab": {}
      },
      "source": [
        "Up_Images.txt"
      ],
      "execution_count": 0,
      "outputs": []
    },
    {
      "cell_type": "code",
      "metadata": {
        "id": "dm8Zf6nFN3gR",
        "colab_type": "code",
        "colab": {}
      },
      "source": [
        "folder = 'Up'\n",
        "file = 'Up_Images.txt'"
      ],
      "execution_count": 0,
      "outputs": []
    },
    {
      "cell_type": "code",
      "metadata": {
        "id": "MOC9zw6mN3gU",
        "colab_type": "code",
        "colab": {}
      },
      "source": [
        "folder = \"two_celebrity_images\"\n",
        "file = 'two_celebrities.txt'"
      ],
      "execution_count": 0,
      "outputs": []
    },
    {
      "cell_type": "code",
      "metadata": {
        "id": "xSFt-fq2N3gX",
        "colab_type": "code",
        "colab": {}
      },
      "source": [
        "dest = path/folder\n",
        "dest.mkdir(parents=True,exist_ok=True)"
      ],
      "execution_count": 0,
      "outputs": []
    },
    {
      "cell_type": "code",
      "metadata": {
        "id": "5ek1AoJJN3ge",
        "colab_type": "code",
        "colab": {}
      },
      "source": [
        "download_images(path/file,dest,max_pics = 100)"
      ],
      "execution_count": 0,
      "outputs": []
    },
    {
      "cell_type": "code",
      "metadata": {
        "id": "bsIvOza5N3gg",
        "colab_type": "code",
        "colab": {}
      },
      "source": [
        "folder = \"diff_poses\"\n",
        "file = 'diff_poses.txt'"
      ],
      "execution_count": 0,
      "outputs": []
    },
    {
      "cell_type": "code",
      "metadata": {
        "id": "zJu69hmgN3gi",
        "colab_type": "code",
        "colab": {}
      },
      "source": [
        "dest = path/folder\n",
        "dest.mkdir(parents=True,exist_ok=True)"
      ],
      "execution_count": 0,
      "outputs": []
    },
    {
      "cell_type": "code",
      "metadata": {
        "id": "GtmUwCWCN3gr",
        "colab_type": "code",
        "colab": {}
      },
      "source": [
        "download_images(path/file,dest,max_pics = 100)"
      ],
      "execution_count": 0,
      "outputs": []
    },
    {
      "cell_type": "code",
      "metadata": {
        "id": "-iAsKDUcN3g0",
        "colab_type": "code",
        "colab": {}
      },
      "source": [
        ""
      ],
      "execution_count": 0,
      "outputs": []
    },
    {
      "cell_type": "code",
      "metadata": {
        "id": "qR1-PPAdN3g4",
        "colab_type": "code",
        "colab": {}
      },
      "source": [
        ""
      ],
      "execution_count": 0,
      "outputs": []
    },
    {
      "cell_type": "code",
      "metadata": {
        "id": "Toaok5zFN3g8",
        "colab_type": "code",
        "colab": {}
      },
      "source": [
        "dest = path/folder\n",
        "dest.mkdir(parents=True,exist_ok=True)"
      ],
      "execution_count": 0,
      "outputs": []
    },
    {
      "cell_type": "code",
      "metadata": {
        "id": "fLWlpAQrN3g_",
        "colab_type": "code",
        "colab": {}
      },
      "source": [
        "download_images(path/file,dest,max_pics = 40)"
      ],
      "execution_count": 0,
      "outputs": []
    },
    {
      "cell_type": "code",
      "metadata": {
        "id": "wHYZhG9kN3hE",
        "colab_type": "code",
        "colab": {},
        "outputId": "efd928e4-0a52-4c43-96f8-0dedcd1bd781"
      },
      "source": [
        "print(path)"
      ],
      "execution_count": 0,
      "outputs": [
        {
          "output_type": "stream",
          "text": [
            "Data_19_EVA\n"
          ],
          "name": "stdout"
        }
      ]
    },
    {
      "cell_type": "code",
      "metadata": {
        "id": "Cm--_UOnN3hH",
        "colab_type": "code",
        "colab": {}
      },
      "source": [
        "from fastai.vision import *\n",
        "\n",
        "#path = untar_data(URLs.PETS)\n",
        "path_hr = path/'data'/'diff_poses'\n",
        "path_lr = path/'data1'/'diff_poses-400'\n",
        "#path_mr = path/'small-256'\n",
        "\n",
        "il = ImageList.from_folder(path_hr)\n",
        "\n",
        "def resize_one(fn, i, path, size):\n",
        "    dest = path/fn.relative_to(path_hr)\n",
        "    dest.parent.mkdir(parents=True, exist_ok=True)\n",
        "    img = PIL.Image.open(fn)\n",
        "    targ_sz = resize_to(img, size, use_min=True)\n",
        "    img = img.resize(targ_sz, resample=PIL.Image.BILINEAR).convert('RGB')\n",
        "    img.save(dest, quality=75)\n",
        "\n",
        "# create smaller image sets the first time this nb is run\n",
        "sets = [(path_lr, 400)]\n",
        "for p,size in sets:\n",
        "    if not p.exists(): \n",
        "        print(f\"resizing to {size} into {p}\")\n",
        "        parallel(partial(resize_one, path=p, size=size), il.items)"
      ],
      "execution_count": 0,
      "outputs": []
    },
    {
      "cell_type": "code",
      "metadata": {
        "id": "YIHzDj2YN3hJ",
        "colab_type": "code",
        "colab": {},
        "outputId": "386874f9-fda0-4772-dab0-11adf0297c0c"
      },
      "source": [
        "for filename in os.listdir(path/'data1'):\n",
        "    for file_name in os.listdir(path/'data1'/filename):\n",
        "        print(file_name)"
      ],
      "execution_count": 0,
      "outputs": [
        {
          "output_type": "stream",
          "text": [
            "00000000.jpg\n",
            "00000009.jpg\n",
            "00000028.jpg\n",
            "00000007.jpg\n",
            "00000027.jpg\n",
            "00000017.jpg\n",
            "00000005.jpeg\n",
            "00000004.jpg\n",
            "00000037.jpg\n",
            "00000040.jpg\n",
            "00000039.jpg\n",
            "00000016.jpg\n",
            "00000032.jpg\n",
            "00000011.jpg\n",
            "00000002.jpg\n",
            "00000017.jpg\n",
            "00000008.jpg\n",
            "00000020.jpg\n",
            "00000047.jpg\n",
            "00000004.jpg\n",
            "00000012.jpg\n",
            "00000003.png\n",
            "00000005.jpg\n",
            "00000006.jpg\n",
            "00000011.jpg\n",
            "00000002.jpg\n",
            "00000021.jpg\n",
            "00000019.jpg\n",
            "00000017.jpg\n",
            "00000014.jpg\n",
            "00000010.jpg\n",
            "00000001.jpg\n",
            "00000029.jpg\n",
            "00000009.jpg\n",
            "00000032.jpg\n",
            "00000021.jpg\n",
            "00000019.jpg\n",
            "00000008.jpg\n",
            "00000022.jpg\n",
            "00000036.jpg\n",
            "00000014.jpg\n",
            "00000010.jpg\n",
            "00000020.jpg\n",
            "00000004.jpg\n",
            "00000031.jpg\n",
            "00000012.jpg\n",
            "00000033.jpg\n",
            "00000037.jpg\n",
            "00000034.jpg\n",
            "00000023.jpg\n",
            "00000011.jpg\n",
            "00000026.jpg\n",
            "00000002.jpg\n",
            "00000030.jpg\n",
            "00000035.jpg\n",
            "00000025.png\n",
            "00000022.jpg\n",
            "00000036.jpg\n",
            "00000014.jpg\n",
            "00000001.jpg\n",
            "00000031.jpg\n",
            "00000012.jpg\n",
            "00000039.jpg\n",
            "00000028.jpg\n",
            "00000003.jpg\n",
            "00000011.jpg\n",
            "00000002.jpg\n",
            "00000007.jpg\n",
            "00000037.jpeg\n",
            "00000017.jpg\n",
            "00000008.jpg\n",
            "00000010.jpg\n",
            "00000016.jpg\n",
            "00000038.jpg\n",
            "00000002.jpg\n",
            "00000004.jpg\n",
            "00000018.jpg\n",
            "00000037.jpg\n",
            "00000034.jpg\n",
            "00000029.jpg\n",
            "00000000.jpg\n",
            "00000023.jpg\n",
            "00000007.png\n",
            "00000002.jpg\n",
            "00000021.jpg\n",
            "00000048.png\n",
            "00000036.jpg\n",
            "00000013.jpg\n",
            "00000015.jpg\n",
            "00000024.jpg\n",
            "00000014.jpg\n",
            "00000047.jpg\n",
            "00000041.jpg\n",
            "00000004.jpg\n",
            "00000001.jpg\n",
            "00000031.jpg\n",
            "00000043.jpg\n",
            "00000018.jpg\n",
            "00000012.jpg\n",
            "00000029.jpg\n",
            "00000009.jpg\n",
            "00000016.png\n",
            "00000006.jpg\n",
            "00000011.jpg\n",
            "00000002.jpg\n",
            "00000019.jpg\n",
            "00000008.jpg\n",
            "00000020.jpg\n",
            "00000018.jpg\n",
            "00000012.jpg\n",
            "00000003.jpg\n",
            "00000032.jpg\n",
            "00000025.jpg\n",
            "00000006.jpg\n",
            "00000002.jpg\n",
            "00000007.jpg\n",
            "00000021.jpg\n",
            "00000001.jpg\n",
            "00000031.jpg\n",
            "00000005.jpg\n",
            "00000029.jpg\n",
            "00000025.jpg\n",
            "00000011.jpg\n",
            "00000002.jpg\n",
            "00000007.jpg\n",
            "00000017.jpg\n",
            "00000014.jpg\n",
            "00000004.jpg\n"
          ],
          "name": "stdout"
        }
      ]
    },
    {
      "cell_type": "code",
      "metadata": {
        "id": "WDf2Kj48N3hL",
        "colab_type": "code",
        "colab": {},
        "outputId": "7de0cd7a-40ea-47d3-8693-ed6df567feae"
      },
      "source": [
        "# Pythono3 code to rename multiple  \n",
        "# files in a directory or folder \n",
        "  \n",
        "# importing os module \n",
        "import os \n",
        "path1 = Path(path/'data1'/'diff_poses-400')\n",
        "print(path1)\n",
        "# Function to rename multiple files \n",
        "def main(): \n",
        "    i = 200\n",
        "      \n",
        "\n",
        "    for filename in os.listdir(path1): \n",
        "        dst =\"image_\" + str(i) + \".jpg\"\n",
        "        print(dst)\n",
        "        src = path1/filename\n",
        "        dst = path1/dst \n",
        "        print(src)\n",
        "        print(dst)\n",
        "        # rename() function will \n",
        "        # rename all the files \n",
        "        print(filename)                \n",
        "        os.rename(src, dst) \n",
        "        i += 1\n",
        "  \n",
        "# Driver Code \n",
        "if __name__ == '__main__': \n",
        "      \n",
        "    # Calling main() function \n",
        "    main()"
      ],
      "execution_count": 0,
      "outputs": [
        {
          "output_type": "stream",
          "text": [
            "Data_19_EVA/data1/diff_poses-400\n",
            "image_200.jpg\n",
            "Data_19_EVA/data1/diff_poses-400/00000053.jpg\n",
            "Data_19_EVA/data1/diff_poses-400/image_200.jpg\n",
            "00000053.jpg\n",
            "image_201.jpg\n",
            "Data_19_EVA/data1/diff_poses-400/00000055.jpg\n",
            "Data_19_EVA/data1/diff_poses-400/image_201.jpg\n",
            "00000055.jpg\n",
            "image_202.jpg\n",
            "Data_19_EVA/data1/diff_poses-400/00000095.jpg\n",
            "Data_19_EVA/data1/diff_poses-400/image_202.jpg\n",
            "00000095.jpg\n",
            "image_203.jpg\n",
            "Data_19_EVA/data1/diff_poses-400/00000040.jpg\n",
            "Data_19_EVA/data1/diff_poses-400/image_203.jpg\n",
            "00000040.jpg\n",
            "image_204.jpg\n",
            "Data_19_EVA/data1/diff_poses-400/00000000.jpg\n",
            "Data_19_EVA/data1/diff_poses-400/image_204.jpg\n",
            "00000000.jpg\n",
            "image_205.jpg\n",
            "Data_19_EVA/data1/diff_poses-400/00000012.png\n",
            "Data_19_EVA/data1/diff_poses-400/image_205.jpg\n",
            "00000012.png\n",
            "image_206.jpg\n",
            "Data_19_EVA/data1/diff_poses-400/00000071.jpg\n",
            "Data_19_EVA/data1/diff_poses-400/image_206.jpg\n",
            "00000071.jpg\n",
            "image_207.jpg\n",
            "Data_19_EVA/data1/diff_poses-400/00000060.jpg\n",
            "Data_19_EVA/data1/diff_poses-400/image_207.jpg\n",
            "00000060.jpg\n",
            "image_208.jpg\n",
            "Data_19_EVA/data1/diff_poses-400/00000003.jpg\n",
            "Data_19_EVA/data1/diff_poses-400/image_208.jpg\n",
            "00000003.jpg\n",
            "image_209.jpg\n",
            "Data_19_EVA/data1/diff_poses-400/00000094.jpg\n",
            "Data_19_EVA/data1/diff_poses-400/image_209.jpg\n",
            "00000094.jpg\n",
            "image_210.jpg\n",
            "Data_19_EVA/data1/diff_poses-400/00000085.jpg\n",
            "Data_19_EVA/data1/diff_poses-400/image_210.jpg\n",
            "00000085.jpg\n",
            "image_211.jpg\n",
            "Data_19_EVA/data1/diff_poses-400/00000049.jpg\n",
            "Data_19_EVA/data1/diff_poses-400/image_211.jpg\n",
            "00000049.jpg\n",
            "image_212.jpg\n",
            "Data_19_EVA/data1/diff_poses-400/00000096.jpg\n",
            "Data_19_EVA/data1/diff_poses-400/image_212.jpg\n",
            "00000096.jpg\n",
            "image_213.jpg\n",
            "Data_19_EVA/data1/diff_poses-400/00000006.jpg\n",
            "Data_19_EVA/data1/diff_poses-400/image_213.jpg\n",
            "00000006.jpg\n",
            "image_214.jpg\n",
            "Data_19_EVA/data1/diff_poses-400/00000011.jpg\n",
            "Data_19_EVA/data1/diff_poses-400/image_214.jpg\n",
            "00000011.jpg\n",
            "image_215.jpg\n",
            "Data_19_EVA/data1/diff_poses-400/00000026.jpg\n",
            "Data_19_EVA/data1/diff_poses-400/image_215.jpg\n",
            "00000026.jpg\n",
            "image_216.jpg\n",
            "Data_19_EVA/data1/diff_poses-400/00000002.jpg\n",
            "Data_19_EVA/data1/diff_poses-400/image_216.jpg\n",
            "00000002.jpg\n",
            "image_217.jpg\n",
            "Data_19_EVA/data1/diff_poses-400/00000099.jpg\n",
            "Data_19_EVA/data1/diff_poses-400/image_217.jpg\n",
            "00000099.jpg\n",
            "image_218.jpg\n",
            "Data_19_EVA/data1/diff_poses-400/00000081.jpg\n",
            "Data_19_EVA/data1/diff_poses-400/image_218.jpg\n",
            "00000081.jpg\n",
            "image_219.jpg\n",
            "Data_19_EVA/data1/diff_poses-400/00000098.jpg\n",
            "Data_19_EVA/data1/diff_poses-400/image_219.jpg\n",
            "00000098.jpg\n",
            "image_220.jpg\n",
            "Data_19_EVA/data1/diff_poses-400/00000063.jpg\n",
            "Data_19_EVA/data1/diff_poses-400/image_220.jpg\n",
            "00000063.jpg\n",
            "image_221.jpg\n",
            "Data_19_EVA/data1/diff_poses-400/00000017.jpg\n",
            "Data_19_EVA/data1/diff_poses-400/image_221.jpg\n",
            "00000017.jpg\n",
            "image_222.jpg\n",
            "Data_19_EVA/data1/diff_poses-400/00000008.jpg\n",
            "Data_19_EVA/data1/diff_poses-400/image_222.jpg\n",
            "00000008.jpg\n",
            "image_223.jpg\n",
            "Data_19_EVA/data1/diff_poses-400/00000091.jpeg\n",
            "Data_19_EVA/data1/diff_poses-400/image_223.jpg\n",
            "00000091.jpeg\n",
            "image_224.jpg\n",
            "Data_19_EVA/data1/diff_poses-400/00000075.jpg\n",
            "Data_19_EVA/data1/diff_poses-400/image_224.jpg\n",
            "00000075.jpg\n",
            "image_225.jpg\n",
            "Data_19_EVA/data1/diff_poses-400/00000014.jpg\n",
            "Data_19_EVA/data1/diff_poses-400/image_225.jpg\n",
            "00000014.jpg\n",
            "image_226.jpg\n",
            "Data_19_EVA/data1/diff_poses-400/00000073.png\n",
            "Data_19_EVA/data1/diff_poses-400/image_226.jpg\n",
            "00000073.png\n",
            "image_227.jpg\n",
            "Data_19_EVA/data1/diff_poses-400/00000070.jpg\n",
            "Data_19_EVA/data1/diff_poses-400/image_227.jpg\n",
            "00000070.jpg\n",
            "image_228.jpg\n",
            "Data_19_EVA/data1/diff_poses-400/00000010.jpg\n",
            "Data_19_EVA/data1/diff_poses-400/image_228.jpg\n",
            "00000010.jpg\n",
            "image_229.jpg\n",
            "Data_19_EVA/data1/diff_poses-400/00000020.jpg\n",
            "Data_19_EVA/data1/diff_poses-400/image_229.jpg\n",
            "00000020.jpg\n",
            "image_230.jpg\n",
            "Data_19_EVA/data1/diff_poses-400/00000089.jpg\n",
            "Data_19_EVA/data1/diff_poses-400/image_230.jpg\n",
            "00000089.jpg\n",
            "image_231.jpg\n",
            "Data_19_EVA/data1/diff_poses-400/00000084.JPG\n",
            "Data_19_EVA/data1/diff_poses-400/image_231.jpg\n",
            "00000084.JPG\n"
          ],
          "name": "stdout"
        }
      ]
    },
    {
      "cell_type": "code",
      "metadata": {
        "id": "PKNmXxN5N3hN",
        "colab_type": "code",
        "colab": {},
        "outputId": "24afe55f-f81d-43b2-eb19-684211658c42"
      },
      "source": [
        "# Pythono3 code to rename multiple  \n",
        "# files in a directory or folder \n",
        "  \n",
        "# importing os module \n",
        "import os \n",
        "  \n",
        "# Function to rename multiple files \n",
        "def main(): \n",
        "    i = 10\n",
        "    path1 =  path/'data1'\n",
        "    for dirname in os.listdir(path1):\n",
        "        for filename in os.listdir(path1/dirname): \n",
        "            dst =\"image_0\" + str(i) + \".jpg\"\n",
        "            src = path1/dirname/filename \n",
        "            dst = path1/dirname/dst\n",
        "\n",
        "            # rename() function will \n",
        "            # rename all the files \n",
        "            print(filename)                \n",
        "            os.rename(src, dst) \n",
        "            i += 1\n",
        "  \n",
        "# Driver Code \n",
        "if __name__ == '__main__': \n",
        "      \n",
        "    # Calling main() function \n",
        "    main() "
      ],
      "execution_count": 0,
      "outputs": [
        {
          "output_type": "stream",
          "text": [
            "image_014.jpg\n",
            "image_010.jpg\n",
            "image_013.jpg\n",
            "image_016.jpg\n",
            "image_011.jpg\n",
            "image_015.jpg\n",
            "image_017.jpg\n",
            "image_012.jpg\n",
            "image_029.jpg\n",
            "image_023.jpg\n",
            "image_021.jpg\n",
            "image_018.jpg\n",
            "image_028.jpg\n",
            "image_024.jpg\n",
            "image_026.jpg\n",
            "image_025.jpg\n",
            "image_022.jpg\n",
            "image_020.jpg\n",
            "image_027.jpg\n",
            "image_019.jpg\n",
            "image_030.jpg\n",
            "image_034.jpg\n",
            "image_037.jpg\n",
            "image_031.jpg\n",
            "image_032.jpg\n",
            "image_038.jpg\n",
            "image_040.jpg\n",
            "image_039.jpg\n",
            "image_041.jpg\n",
            "image_033.jpg\n",
            "image_036.jpg\n",
            "image_035.jpg\n",
            "image_051.jpg\n",
            "image_044.jpg\n",
            "image_049.jpg\n",
            "image_042.jpg\n",
            "image_054.jpg\n",
            "image_048.jpg\n",
            "image_050.jpg\n",
            "image_045.jpg\n",
            "image_053.jpg\n",
            "image_043.jpg\n",
            "image_046.jpg\n",
            "image_052.jpg\n",
            "image_047.jpg\n",
            "image_070.jpg\n",
            "image_062.jpg\n",
            "image_068.jpg\n",
            "image_069.jpg\n",
            "image_066.jpg\n",
            "image_056.jpg\n",
            "image_059.jpg\n",
            "image_060.jpg\n",
            "image_058.jpg\n",
            "image_055.jpg\n",
            "image_063.jpg\n",
            "image_064.jpg\n",
            "image_057.jpg\n",
            "image_065.jpg\n",
            "image_061.jpg\n",
            "image_067.jpg\n",
            "image_071.jpg\n",
            "image_080.jpg\n",
            "image_075.jpg\n",
            "image_076.jpg\n",
            "image_078.jpg\n",
            "image_074.jpg\n",
            "image_072.jpg\n",
            "image_073.jpg\n",
            "image_077.jpg\n",
            "image_081.jpg\n",
            "image_079.jpg\n"
          ],
          "name": "stdout"
        },
        {
          "output_type": "error",
          "ename": "NotADirectoryError",
          "evalue": "[Errno 20] Not a directory: 'Data_19_EVA/data1/two_celebrity_images-400.zip'",
          "traceback": [
            "\u001b[0;31m---------------------------------------------------------------------------\u001b[0m",
            "\u001b[0;31mNotADirectoryError\u001b[0m                        Traceback (most recent call last)",
            "\u001b[0;32m<ipython-input-104-d7dc97aa89e9>\u001b[0m in \u001b[0;36m<module>\u001b[0;34m\u001b[0m\n\u001b[1;32m     25\u001b[0m \u001b[0;34m\u001b[0m\u001b[0m\n\u001b[1;32m     26\u001b[0m     \u001b[0;31m# Calling main() function\u001b[0m\u001b[0;34m\u001b[0m\u001b[0;34m\u001b[0m\u001b[0;34m\u001b[0m\u001b[0m\n\u001b[0;32m---> 27\u001b[0;31m     \u001b[0mmain\u001b[0m\u001b[0;34m(\u001b[0m\u001b[0;34m)\u001b[0m\u001b[0;34m\u001b[0m\u001b[0;34m\u001b[0m\u001b[0m\n\u001b[0m",
            "\u001b[0;32m<ipython-input-104-d7dc97aa89e9>\u001b[0m in \u001b[0;36mmain\u001b[0;34m()\u001b[0m\n\u001b[1;32m     10\u001b[0m     \u001b[0mpath1\u001b[0m \u001b[0;34m=\u001b[0m  \u001b[0mpath\u001b[0m\u001b[0;34m/\u001b[0m\u001b[0;34m'data1'\u001b[0m\u001b[0;34m\u001b[0m\u001b[0;34m\u001b[0m\u001b[0m\n\u001b[1;32m     11\u001b[0m     \u001b[0;32mfor\u001b[0m \u001b[0mdirname\u001b[0m \u001b[0;32min\u001b[0m \u001b[0mos\u001b[0m\u001b[0;34m.\u001b[0m\u001b[0mlistdir\u001b[0m\u001b[0;34m(\u001b[0m\u001b[0mpath1\u001b[0m\u001b[0;34m)\u001b[0m\u001b[0;34m:\u001b[0m\u001b[0;34m\u001b[0m\u001b[0;34m\u001b[0m\u001b[0m\n\u001b[0;32m---> 12\u001b[0;31m         \u001b[0;32mfor\u001b[0m \u001b[0mfilename\u001b[0m \u001b[0;32min\u001b[0m \u001b[0mos\u001b[0m\u001b[0;34m.\u001b[0m\u001b[0mlistdir\u001b[0m\u001b[0;34m(\u001b[0m\u001b[0mpath1\u001b[0m\u001b[0;34m/\u001b[0m\u001b[0mdirname\u001b[0m\u001b[0;34m)\u001b[0m\u001b[0;34m:\u001b[0m\u001b[0;34m\u001b[0m\u001b[0;34m\u001b[0m\u001b[0m\n\u001b[0m\u001b[1;32m     13\u001b[0m             \u001b[0mdst\u001b[0m \u001b[0;34m=\u001b[0m\u001b[0;34m\"image_0\"\u001b[0m \u001b[0;34m+\u001b[0m \u001b[0mstr\u001b[0m\u001b[0;34m(\u001b[0m\u001b[0mi\u001b[0m\u001b[0;34m)\u001b[0m \u001b[0;34m+\u001b[0m \u001b[0;34m\".jpg\"\u001b[0m\u001b[0;34m\u001b[0m\u001b[0;34m\u001b[0m\u001b[0m\n\u001b[1;32m     14\u001b[0m             \u001b[0msrc\u001b[0m \u001b[0;34m=\u001b[0m \u001b[0mpath1\u001b[0m\u001b[0;34m/\u001b[0m\u001b[0mdirname\u001b[0m\u001b[0;34m/\u001b[0m\u001b[0mfilename\u001b[0m\u001b[0;34m\u001b[0m\u001b[0;34m\u001b[0m\u001b[0m\n",
            "\u001b[0;31mNotADirectoryError\u001b[0m: [Errno 20] Not a directory: 'Data_19_EVA/data1/two_celebrity_images-400.zip'"
          ]
        }
      ]
    },
    {
      "cell_type": "code",
      "metadata": {
        "id": "VvxFTjc8N3hP",
        "colab_type": "code",
        "colab": {},
        "outputId": "cfee48a1-e366-429b-9174-69cad2abf744"
      },
      "source": [
        "print(path)"
      ],
      "execution_count": 0,
      "outputs": [
        {
          "output_type": "stream",
          "text": [
            "Data_19_EVA\n"
          ],
          "name": "stdout"
        }
      ]
    },
    {
      "cell_type": "code",
      "metadata": {
        "id": "qFqQT2w3N3hR",
        "colab_type": "code",
        "colab": {}
      },
      "source": [
        "from pathlib import Path\n",
        "import json"
      ],
      "execution_count": 0,
      "outputs": []
    },
    {
      "cell_type": "code",
      "metadata": {
        "id": "AKpg9qrRN3hT",
        "colab_type": "code",
        "colab": {},
        "outputId": "009f2692-f659-4219-ca95-fa3c8f9a1736"
      },
      "source": [
        "list(path.iterdir())"
      ],
      "execution_count": 0,
      "outputs": [
        {
          "output_type": "execute_result",
          "data": {
            "text/plain": [
              "[PosixPath('Data_19_EVA/upleft_images.txt'),\n",
              " PosixPath('Data_19_EVA/two_celebrities.txt'),\n",
              " PosixPath('Data_19_EVA/Images_Right.txt'),\n",
              " PosixPath('Data_19_EVA/data_resized_renamed.zip'),\n",
              " PosixPath('Data_19_EVA/Images_left.txt'),\n",
              " PosixPath('Data_19_EVA/Images_Front.txt'),\n",
              " PosixPath('Data_19_EVA/data1.zip'),\n",
              " PosixPath('Data_19_EVA/upright.txt'),\n",
              " PosixPath('Data_19_EVA/data'),\n",
              " PosixPath('Data_19_EVA/Downright_Images.txt'),\n",
              " PosixPath('Data_19_EVA/Images_Back.txt'),\n",
              " PosixPath('Data_19_EVA/Up_Images.txt'),\n",
              " PosixPath('Data_19_EVA/total_data'),\n",
              " PosixPath('Data_19_EVA/Downleft_images.txt'),\n",
              " PosixPath('Data_19_EVA/Down_Images.txt'),\n",
              " PosixPath('Data_19_EVA/via_project_23Sep2019_16h36m.json'),\n",
              " PosixPath('Data_19_EVA/diff_poses.txt'),\n",
              " PosixPath('Data_19_EVA/data1'),\n",
              " PosixPath('Data_19_EVA/Top_Images.txt')]"
            ]
          },
          "metadata": {
            "tags": []
          },
          "execution_count": 109
        }
      ]
    },
    {
      "cell_type": "code",
      "metadata": {
        "id": "kUVC7I_6N3hV",
        "colab_type": "code",
        "colab": {}
      },
      "source": [
        "trn_j = json.load((path/'via_project_23Sep2019_16h36m.json').open())"
      ],
      "execution_count": 0,
      "outputs": []
    },
    {
      "cell_type": "code",
      "metadata": {
        "id": "CKp0Y_NxN3hX",
        "colab_type": "code",
        "colab": {},
        "outputId": "045f9080-a469-4278-b3fb-56d13583040f"
      },
      "source": [
        "trn_j.keys()"
      ],
      "execution_count": 0,
      "outputs": [
        {
          "output_type": "execute_result",
          "data": {
            "text/plain": [
              "dict_keys(['_via_settings', '_via_img_metadata', '_via_attributes'])"
            ]
          },
          "metadata": {
            "tags": []
          },
          "execution_count": 111
        }
      ]
    },
    {
      "cell_type": "code",
      "metadata": {
        "id": "PTAej7OuN3ha",
        "colab_type": "code",
        "colab": {}
      },
      "source": [
        "trn_bb = collections.defaultdict(lambda : [])\n",
        "width= []\n",
        "height = []\n",
        "for o in k:\n",
        "    img_name = o['filename']\n",
        "    #print(img_name)\n",
        "    for each_bb in o['regions']:\n",
        "        bb_w= each_bb['shape_attributes']['width']\n",
        "        bb_h = each_bb['shape_attributes']['height']\n",
        "        width.append(bb_w)\n",
        "        height.append(bb_h)"
      ],
      "execution_count": 0,
      "outputs": []
    },
    {
      "cell_type": "code",
      "metadata": {
        "id": "ggNG2-HGN3hb",
        "colab_type": "code",
        "colab": {}
      },
      "source": [
        "width_array = np.array(width)/400"
      ],
      "execution_count": 0,
      "outputs": []
    },
    {
      "cell_type": "code",
      "metadata": {
        "id": "Hx6QjxH1N3hd",
        "colab_type": "code",
        "colab": {}
      },
      "source": [
        "heigth_array = np.array(height)/400"
      ],
      "execution_count": 0,
      "outputs": []
    },
    {
      "cell_type": "code",
      "metadata": {
        "id": "xAmDKmQPN3he",
        "colab_type": "code",
        "colab": {},
        "outputId": "694271fa-a50a-45ae-da36-3325b5fce879"
      },
      "source": [
        "print(width_array)"
      ],
      "execution_count": 0,
      "outputs": [
        {
          "output_type": "stream",
          "text": [
            "[0.45   0.3725 0.685  0.3    ... 0.31   0.1975 0.1075 0.155 ]\n"
          ],
          "name": "stdout"
        }
      ]
    },
    {
      "cell_type": "code",
      "metadata": {
        "id": "RvuBeWEwN3hg",
        "colab_type": "code",
        "colab": {},
        "outputId": "356e848d-dc1b-459b-af7f-af7f2a867a72"
      },
      "source": [
        "print(heigth_array)"
      ],
      "execution_count": 0,
      "outputs": [
        {
          "output_type": "stream",
          "text": [
            "[0.4975 0.435  0.69   0.3275 ... 0.305  0.1825 0.1575 0.145 ]\n"
          ],
          "name": "stdout"
        }
      ]
    },
    {
      "cell_type": "code",
      "metadata": {
        "id": "kSQSFu1ON3hh",
        "colab_type": "code",
        "colab": {}
      },
      "source": [
        "X = np.column_stack((width_array,heigth_array))"
      ],
      "execution_count": 0,
      "outputs": []
    },
    {
      "cell_type": "code",
      "metadata": {
        "id": "bP54UrICN3hj",
        "colab_type": "code",
        "colab": {},
        "outputId": "2d1c6632-a8ed-42f1-bcd0-86fad64715ba"
      },
      "source": [
        "X[:3]"
      ],
      "execution_count": 0,
      "outputs": [
        {
          "output_type": "execute_result",
          "data": {
            "text/plain": [
              "array([[0.45  , 0.4975],\n",
              "       [0.3725, 0.435 ],\n",
              "       [0.685 , 0.69  ]])"
            ]
          },
          "metadata": {
            "tags": []
          },
          "execution_count": 208
        }
      ]
    },
    {
      "cell_type": "code",
      "metadata": {
        "id": "2DHgYRYLN3hl",
        "colab_type": "code",
        "colab": {}
      },
      "source": [
        "import numpy as np\n",
        "import pandas as pd\n",
        "from matplotlib import pyplot as plt\n",
        "from sklearn.cluster import KMeans"
      ],
      "execution_count": 0,
      "outputs": []
    },
    {
      "cell_type": "code",
      "metadata": {
        "id": "q_4Izpk3N3hm",
        "colab_type": "code",
        "colab": {},
        "outputId": "884eb562-2b38-46e8-9296-4328ced6ff3f"
      },
      "source": [
        "plt.scatter(X[:,0], X[:,1])"
      ],
      "execution_count": 0,
      "outputs": [
        {
          "output_type": "execute_result",
          "data": {
            "text/plain": [
              "<matplotlib.collections.PathCollection at 0x7f7cc3cdca90>"
            ]
          },
          "metadata": {
            "tags": []
          },
          "execution_count": 210
        },
        {
          "output_type": "display_data",
          "data": {
            "image/png": "[encoded data removed]",
            "text/plain": [
              "<Figure size 432x288 with 1 Axes>"
            ]
          },
          "metadata": {
            "tags": [],
            "needs_background": "light"
          }
        }
      ]
    },
    {
      "cell_type": "code",
      "metadata": {
        "id": "zC8BicB4N3hr",
        "colab_type": "code",
        "colab": {},
        "outputId": "f71aebc3-75b7-4475-879f-6fc81244185e"
      },
      "source": [
        "kmeans = KMeans(n_clusters=4, init='k-means++', max_iter=300, n_init=10, random_state=0)\n",
        "pred_y = kmeans.fit_predict(X)\n",
        "plt.scatter(X[:,0], X[:,1])\n",
        "plt.scatter(kmeans.cluster_centers_[:, 0], kmeans.cluster_centers_[:, 1], s=300, c='red')\n",
        "plt.show()"
      ],
      "execution_count": 0,
      "outputs": [
        {
          "output_type": "display_data",
          "data": {
            "image/png": "[encoded data removed]",
            "text/plain": [
              "<Figure size 432x288 with 1 Axes>"
            ]
          },
          "metadata": {
            "tags": [],
            "needs_background": "light"
          }
        }
      ]
    },
    {
      "cell_type": "code",
      "metadata": {
        "id": "JTsi2y_ZN3hu",
        "colab_type": "code",
        "colab": {},
        "outputId": "1dcc23fc-b62f-49a8-8438-40c345655015"
      },
      "source": [
        "kmeans.cluster_centers_"
      ],
      "execution_count": 0,
      "outputs": [
        {
          "output_type": "execute_result",
          "data": {
            "text/plain": [
              "array([[0.437153, 0.507083],\n",
              "       [0.172625, 0.176312],\n",
              "       [0.290122, 0.323049],\n",
              "       [0.664667, 0.728333]])"
            ]
          },
          "metadata": {
            "tags": []
          },
          "execution_count": 214
        }
      ]
    },
    {
      "cell_type": "code",
      "metadata": {
        "id": "o3xnPcNZN3hw",
        "colab_type": "code",
        "colab": {}
      },
      "source": [
        ""
      ],
      "execution_count": 0,
      "outputs": []
    },
    {
      "cell_type": "code",
      "metadata": {
        "id": "GTh4JUC1N3hz",
        "colab_type": "code",
        "colab": {}
      },
      "source": [
        ""
      ],
      "execution_count": 0,
      "outputs": []
    },
    {
      "cell_type": "code",
      "metadata": {
        "id": "YP9WqFQHN3h0",
        "colab_type": "code",
        "colab": {}
      },
      "source": [
        ""
      ],
      "execution_count": 0,
      "outputs": []
    },
    {
      "cell_type": "code",
      "metadata": {
        "id": "vWHKDitGN3h3",
        "colab_type": "code",
        "colab": {}
      },
      "source": [
        ""
      ],
      "execution_count": 0,
      "outputs": []
    },
    {
      "cell_type": "code",
      "metadata": {
        "id": "NILWra9kN3h6",
        "colab_type": "code",
        "colab": {}
      },
      "source": [
        ""
      ],
      "execution_count": 0,
      "outputs": []
    },
    {
      "cell_type": "code",
      "metadata": {
        "id": "eZ6EXv71N3h-",
        "colab_type": "code",
        "colab": {}
      },
      "source": [
        ""
      ],
      "execution_count": 0,
      "outputs": []
    },
    {
      "cell_type": "code",
      "metadata": {
        "id": "8yS4cQjhN3iD",
        "colab_type": "code",
        "colab": {}
      },
      "source": [
        ""
      ],
      "execution_count": 0,
      "outputs": []
    }
  ]
}